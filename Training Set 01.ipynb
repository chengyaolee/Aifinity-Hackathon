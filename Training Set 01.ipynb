{
 "cells": [
  {
   "cell_type": "markdown",
   "metadata": {
    "datalore": {
     "hide_input_from_viewers": false,
     "hide_output_from_viewers": false,
     "node_id": "cBDlJ6ghU56M4f50Ri6wzM",
     "type": "MD"
    },
    "tags": []
   },
   "source": [
    "## Importing Libraries"
   ]
  },
  {
   "cell_type": "code",
   "execution_count": 2,
   "metadata": {
    "tags": []
   },
   "outputs": [],
   "source": [
    "import sagemaker\n",
    "bucket=sagemaker.Session().default_bucket()\n",
    "prefix = 'sagemaker/mlda'\n",
    "\n",
    "sagemaker_session = sagemaker.Session()\n",
    "role = sagemaker.get_execution_role() \n",
    "\n",
    "# Define IAM role\n",
    "import boto3\n",
    "import re\n",
    "from sagemaker import get_execution_role\n",
    "\n",
    "role = get_execution_role()"
   ]
  },
  {
   "cell_type": "markdown",
   "metadata": {},
   "source": [
    "Now let's bring in the Python libraries that we'll use throughout the analysis"
   ]
  },
  {
   "cell_type": "code",
   "execution_count": 3,
   "metadata": {
    "datalore": {
     "hide_input_from_viewers": false,
     "hide_output_from_viewers": false,
     "node_id": "0gfrK7wz1CXYnD3j8ADHgl",
     "type": "CODE"
    },
    "tags": []
   },
   "outputs": [],
   "source": [
    "import numpy as np\n",
    "import pandas as pd\n",
    "import matplotlib.pyplot as plt\n",
    "import seaborn as sns\n",
    "\n",
    "\n",
    "from IPython.display import Image                 # For displaying images in the notebook\n",
    "from IPython.display import display               # For displaying outputs in the notebook\n",
    "from time import gmtime, strftime                 # For labeling SageMaker models, endpoints, etc.\n",
    "import sys                                        # For writing outputs to notebook\n",
    "import math                                       # For ceiling function\n",
    "import json                                       # For parsing hosting outputs\n",
    "import os                                         # For manipulating filepath names\n",
    "import sagemaker "
   ]
  },
  {
   "cell_type": "code",
   "execution_count": 4,
   "metadata": {
    "tags": []
   },
   "outputs": [
    {
     "data": {
      "text/plain": [
       "'1.3.5'"
      ]
     },
     "execution_count": 4,
     "metadata": {},
     "output_type": "execute_result"
    }
   ],
   "source": [
    "pd.__version__"
   ]
  },
  {
   "cell_type": "markdown",
   "metadata": {},
   "source": [
    "Ensure pandas version is 1.2.4 or later, else upgrade and restart kernal and run again"
   ]
  },
  {
   "cell_type": "markdown",
   "metadata": {
    "datalore": {
     "hide_input_from_viewers": false,
     "hide_output_from_viewers": false,
     "node_id": "pY3yCWAAMx7JHzmoIJoNxS",
     "type": "MD"
    },
    "tags": []
   },
   "source": [
    "## Importing Dataset\n",
    "We will be importing our [medical dataset](https://sagemaker-ap-southeast-1-700356909758.s3.ap-southeast-1.amazonaws.com/data.csv) from our S3 bucket."
   ]
  },
  {
   "cell_type": "code",
   "execution_count": 5,
   "metadata": {
    "datalore": {
     "hide_input_from_viewers": false,
     "hide_output_from_viewers": false,
     "node_id": "piZOcCN2ZJag0oAi1fyw9m",
     "type": "CODE"
    },
    "tags": []
   },
   "outputs": [],
   "source": [
    "s3 = boto3.client(\"s3\")\n",
    "data_bucket = 'sagemaker-ap-southeast-1-700356909758'\n",
    "data_path = \"data.csv\"\n",
    "\n",
    "# downloading the test data from data_bucket\n",
    "s3.download_file(data_bucket, 'data.csv', data_path)"
   ]
  },
  {
   "cell_type": "code",
   "execution_count": 6,
   "metadata": {
    "tags": []
   },
   "outputs": [
    {
     "data": {
      "text/html": [
       "<div>\n",
       "<style scoped>\n",
       "    .dataframe tbody tr th:only-of-type {\n",
       "        vertical-align: middle;\n",
       "    }\n",
       "\n",
       "    .dataframe tbody tr th {\n",
       "        vertical-align: top;\n",
       "    }\n",
       "\n",
       "    .dataframe thead th {\n",
       "        text-align: right;\n",
       "    }\n",
       "</style>\n",
       "<table border=\"1\" class=\"dataframe\">\n",
       "  <thead>\n",
       "    <tr style=\"text-align: right;\">\n",
       "      <th></th>\n",
       "      <th>group</th>\n",
       "      <th>ID</th>\n",
       "      <th>outcome</th>\n",
       "      <th>age</th>\n",
       "      <th>gendera</th>\n",
       "      <th>BMI</th>\n",
       "      <th>hypertensive</th>\n",
       "      <th>atrialfibrillation</th>\n",
       "      <th>CHD with no MI</th>\n",
       "      <th>diabetes</th>\n",
       "      <th>...</th>\n",
       "      <th>Blood sodium</th>\n",
       "      <th>Blood calcium</th>\n",
       "      <th>Chloride</th>\n",
       "      <th>Anion gap</th>\n",
       "      <th>Magnesium ion</th>\n",
       "      <th>PH</th>\n",
       "      <th>Bicarbonate</th>\n",
       "      <th>Lactic acid</th>\n",
       "      <th>PCO2</th>\n",
       "      <th>EF</th>\n",
       "    </tr>\n",
       "  </thead>\n",
       "  <tbody>\n",
       "    <tr>\n",
       "      <th>0</th>\n",
       "      <td>1</td>\n",
       "      <td>125047</td>\n",
       "      <td>0.0</td>\n",
       "      <td>72</td>\n",
       "      <td>1</td>\n",
       "      <td>37.588179</td>\n",
       "      <td>0</td>\n",
       "      <td>0</td>\n",
       "      <td>0</td>\n",
       "      <td>1</td>\n",
       "      <td>...</td>\n",
       "      <td>138.750000</td>\n",
       "      <td>7.463636</td>\n",
       "      <td>109.166667</td>\n",
       "      <td>13.166667</td>\n",
       "      <td>2.618182</td>\n",
       "      <td>7.230</td>\n",
       "      <td>21.166667</td>\n",
       "      <td>0.5</td>\n",
       "      <td>40.0</td>\n",
       "      <td>55</td>\n",
       "    </tr>\n",
       "    <tr>\n",
       "      <th>1</th>\n",
       "      <td>1</td>\n",
       "      <td>139812</td>\n",
       "      <td>0.0</td>\n",
       "      <td>75</td>\n",
       "      <td>2</td>\n",
       "      <td>NaN</td>\n",
       "      <td>0</td>\n",
       "      <td>0</td>\n",
       "      <td>0</td>\n",
       "      <td>0</td>\n",
       "      <td>...</td>\n",
       "      <td>138.888889</td>\n",
       "      <td>8.162500</td>\n",
       "      <td>98.444444</td>\n",
       "      <td>11.444444</td>\n",
       "      <td>1.887500</td>\n",
       "      <td>7.225</td>\n",
       "      <td>33.444444</td>\n",
       "      <td>0.5</td>\n",
       "      <td>78.0</td>\n",
       "      <td>55</td>\n",
       "    </tr>\n",
       "    <tr>\n",
       "      <th>2</th>\n",
       "      <td>1</td>\n",
       "      <td>109787</td>\n",
       "      <td>0.0</td>\n",
       "      <td>83</td>\n",
       "      <td>2</td>\n",
       "      <td>26.572634</td>\n",
       "      <td>0</td>\n",
       "      <td>0</td>\n",
       "      <td>0</td>\n",
       "      <td>0</td>\n",
       "      <td>...</td>\n",
       "      <td>140.714286</td>\n",
       "      <td>8.266667</td>\n",
       "      <td>105.857143</td>\n",
       "      <td>10.000000</td>\n",
       "      <td>2.157143</td>\n",
       "      <td>7.268</td>\n",
       "      <td>30.571429</td>\n",
       "      <td>0.5</td>\n",
       "      <td>71.5</td>\n",
       "      <td>35</td>\n",
       "    </tr>\n",
       "    <tr>\n",
       "      <th>3</th>\n",
       "      <td>1</td>\n",
       "      <td>130587</td>\n",
       "      <td>0.0</td>\n",
       "      <td>43</td>\n",
       "      <td>2</td>\n",
       "      <td>83.264629</td>\n",
       "      <td>0</td>\n",
       "      <td>0</td>\n",
       "      <td>0</td>\n",
       "      <td>0</td>\n",
       "      <td>...</td>\n",
       "      <td>138.500000</td>\n",
       "      <td>9.476923</td>\n",
       "      <td>92.071429</td>\n",
       "      <td>12.357143</td>\n",
       "      <td>1.942857</td>\n",
       "      <td>7.370</td>\n",
       "      <td>38.571429</td>\n",
       "      <td>0.6</td>\n",
       "      <td>75.0</td>\n",
       "      <td>55</td>\n",
       "    </tr>\n",
       "    <tr>\n",
       "      <th>4</th>\n",
       "      <td>1</td>\n",
       "      <td>138290</td>\n",
       "      <td>0.0</td>\n",
       "      <td>75</td>\n",
       "      <td>2</td>\n",
       "      <td>31.824842</td>\n",
       "      <td>1</td>\n",
       "      <td>0</td>\n",
       "      <td>0</td>\n",
       "      <td>0</td>\n",
       "      <td>...</td>\n",
       "      <td>136.666667</td>\n",
       "      <td>8.733333</td>\n",
       "      <td>104.500000</td>\n",
       "      <td>15.166667</td>\n",
       "      <td>1.650000</td>\n",
       "      <td>7.250</td>\n",
       "      <td>22.000000</td>\n",
       "      <td>0.6</td>\n",
       "      <td>50.0</td>\n",
       "      <td>55</td>\n",
       "    </tr>\n",
       "  </tbody>\n",
       "</table>\n",
       "<p>5 rows × 51 columns</p>\n",
       "</div>"
      ],
      "text/plain": [
       "   group      ID  outcome  age  gendera        BMI  hypertensive  \\\n",
       "0      1  125047      0.0   72        1  37.588179             0   \n",
       "1      1  139812      0.0   75        2        NaN             0   \n",
       "2      1  109787      0.0   83        2  26.572634             0   \n",
       "3      1  130587      0.0   43        2  83.264629             0   \n",
       "4      1  138290      0.0   75        2  31.824842             1   \n",
       "\n",
       "   atrialfibrillation  CHD with no MI  diabetes  ...  Blood sodium  \\\n",
       "0                   0               0         1  ...    138.750000   \n",
       "1                   0               0         0  ...    138.888889   \n",
       "2                   0               0         0  ...    140.714286   \n",
       "3                   0               0         0  ...    138.500000   \n",
       "4                   0               0         0  ...    136.666667   \n",
       "\n",
       "   Blood calcium    Chloride  Anion gap  Magnesium ion     PH  Bicarbonate  \\\n",
       "0       7.463636  109.166667  13.166667       2.618182  7.230    21.166667   \n",
       "1       8.162500   98.444444  11.444444       1.887500  7.225    33.444444   \n",
       "2       8.266667  105.857143  10.000000       2.157143  7.268    30.571429   \n",
       "3       9.476923   92.071429  12.357143       1.942857  7.370    38.571429   \n",
       "4       8.733333  104.500000  15.166667       1.650000  7.250    22.000000   \n",
       "\n",
       "   Lactic acid  PCO2  EF  \n",
       "0          0.5  40.0  55  \n",
       "1          0.5  78.0  55  \n",
       "2          0.5  71.5  35  \n",
       "3          0.6  75.0  55  \n",
       "4          0.6  50.0  55  \n",
       "\n",
       "[5 rows x 51 columns]"
      ]
     },
     "execution_count": 6,
     "metadata": {},
     "output_type": "execute_result"
    }
   ],
   "source": [
    "data = pd.read_csv(data_path)\n",
    "data.head()"
   ]
  },
  {
   "cell_type": "code",
   "execution_count": 7,
   "metadata": {
    "tags": []
   },
   "outputs": [
    {
     "data": {
      "text/plain": [
       "314     1.0\n",
       "869     1.0\n",
       "964     1.0\n",
       "246     1.0\n",
       "258     1.0\n",
       "       ... \n",
       "417     0.0\n",
       "419     0.0\n",
       "420     0.0\n",
       "1176    0.0\n",
       "1159    NaN\n",
       "Name: outcome, Length: 1177, dtype: float64"
      ]
     },
     "execution_count": 7,
     "metadata": {},
     "output_type": "execute_result"
    }
   ],
   "source": [
    "data[\"outcome\"].sort_values(ascending=False)"
   ]
  },
  {
   "cell_type": "markdown",
   "metadata": {},
   "source": [
    "Let's have an overview of our data.\n",
    "\n",
    "* We have a little over 1000 customer records, and 20 features for each customer\n",
    "* The features are mixed; some numeric, some categorical\n",
    "* The data appears to be sorted, at least by `time` and `contact`, maybe more\n",
    "\n",
    "_**Specifics on each of the features:**_\n",
    "\n",
    "group\n",
    "ID\n",
    "outcome\n",
    "age\n",
    "gendera\n",
    "BMI\n",
    "hypertensive\n",
    "atrialfibrillation\n",
    "CHD with no MI\n",
    "diabetes\n",
    "deficiencyanemias\n",
    "depression\n",
    "Hyperlipemia\n",
    "Renal failure\n",
    "COPD\n",
    "heart rate\n",
    "Systolic blood pressure\n",
    "Diastolic blood pressure\n",
    "Respiratory rate\n",
    "temperature\n",
    "SP O2\n",
    "Urine output\n",
    "hematocrit\n",
    "RBC\n",
    "MCH\n",
    "MCHC\n",
    "MCV\n",
    "RDW\n",
    "Leucocyte\n",
    "Platelets\n",
    "Neutrophils\n",
    "Basophils\n",
    "Lymphocyte\n",
    "PT\n",
    "INR\n",
    "NT-proBNP\n",
    "Creatine kinase\n",
    "Creatinine\n",
    "Urea nitrogen\n",
    "glucose\n",
    "Blood potassium\n",
    "Blood sodium\n",
    "Blood calcium\n",
    "Chloride\n",
    "Anion gap\n",
    "Magnesium ion\n",
    "PH\n",
    "Bicarbonate\n",
    "Lactic acid\n",
    "PCO2\n",
    "EF\n"
   ]
  },
  {
   "cell_type": "code",
   "execution_count": 8,
   "metadata": {
    "datalore": {
     "hide_input_from_viewers": false,
     "hide_output_from_viewers": false,
     "node_id": "OVIHT8Jmyp7IGUOriezxcZ",
     "type": "CODE"
    }
   },
   "outputs": [
    {
     "data": {
      "text/html": [
       "<div>\n",
       "<style scoped>\n",
       "    .dataframe tbody tr th:only-of-type {\n",
       "        vertical-align: middle;\n",
       "    }\n",
       "\n",
       "    .dataframe tbody tr th {\n",
       "        vertical-align: top;\n",
       "    }\n",
       "\n",
       "    .dataframe thead th {\n",
       "        text-align: right;\n",
       "    }\n",
       "</style>\n",
       "<table border=\"1\" class=\"dataframe\">\n",
       "  <thead>\n",
       "    <tr style=\"text-align: right;\">\n",
       "      <th></th>\n",
       "      <th>group</th>\n",
       "      <th>ID</th>\n",
       "      <th>outcome</th>\n",
       "      <th>age</th>\n",
       "      <th>gendera</th>\n",
       "      <th>BMI</th>\n",
       "      <th>hypertensive</th>\n",
       "      <th>atrialfibrillation</th>\n",
       "      <th>CHD with no MI</th>\n",
       "      <th>diabetes</th>\n",
       "      <th>...</th>\n",
       "      <th>Blood sodium</th>\n",
       "      <th>Blood calcium</th>\n",
       "      <th>Chloride</th>\n",
       "      <th>Anion gap</th>\n",
       "      <th>Magnesium ion</th>\n",
       "      <th>PH</th>\n",
       "      <th>Bicarbonate</th>\n",
       "      <th>Lactic acid</th>\n",
       "      <th>PCO2</th>\n",
       "      <th>EF</th>\n",
       "    </tr>\n",
       "  </thead>\n",
       "  <tbody>\n",
       "    <tr>\n",
       "      <th>count</th>\n",
       "      <td>1177.000000</td>\n",
       "      <td>1177.000000</td>\n",
       "      <td>1176.000000</td>\n",
       "      <td>1177.000000</td>\n",
       "      <td>1177.000000</td>\n",
       "      <td>962.000000</td>\n",
       "      <td>1177.000000</td>\n",
       "      <td>1177.000000</td>\n",
       "      <td>1177.000000</td>\n",
       "      <td>1177.000000</td>\n",
       "      <td>...</td>\n",
       "      <td>1177.000000</td>\n",
       "      <td>1176.000000</td>\n",
       "      <td>1177.000000</td>\n",
       "      <td>1177.000000</td>\n",
       "      <td>1177.000000</td>\n",
       "      <td>885.000000</td>\n",
       "      <td>1177.000000</td>\n",
       "      <td>948.000000</td>\n",
       "      <td>883.000000</td>\n",
       "      <td>1177.000000</td>\n",
       "    </tr>\n",
       "    <tr>\n",
       "      <th>mean</th>\n",
       "      <td>1.299065</td>\n",
       "      <td>150778.120646</td>\n",
       "      <td>0.135204</td>\n",
       "      <td>74.055225</td>\n",
       "      <td>1.525064</td>\n",
       "      <td>30.188278</td>\n",
       "      <td>0.717927</td>\n",
       "      <td>0.451147</td>\n",
       "      <td>0.085811</td>\n",
       "      <td>0.421410</td>\n",
       "      <td>...</td>\n",
       "      <td>138.890016</td>\n",
       "      <td>8.500894</td>\n",
       "      <td>102.283835</td>\n",
       "      <td>13.925094</td>\n",
       "      <td>2.120169</td>\n",
       "      <td>7.378532</td>\n",
       "      <td>26.911766</td>\n",
       "      <td>1.853426</td>\n",
       "      <td>45.535382</td>\n",
       "      <td>48.715378</td>\n",
       "    </tr>\n",
       "    <tr>\n",
       "      <th>std</th>\n",
       "      <td>0.458043</td>\n",
       "      <td>29034.669513</td>\n",
       "      <td>0.342087</td>\n",
       "      <td>13.434061</td>\n",
       "      <td>0.499584</td>\n",
       "      <td>9.325997</td>\n",
       "      <td>0.450200</td>\n",
       "      <td>0.497819</td>\n",
       "      <td>0.280204</td>\n",
       "      <td>0.493995</td>\n",
       "      <td>...</td>\n",
       "      <td>4.151347</td>\n",
       "      <td>0.572263</td>\n",
       "      <td>5.339733</td>\n",
       "      <td>2.652732</td>\n",
       "      <td>0.251532</td>\n",
       "      <td>0.067320</td>\n",
       "      <td>5.167512</td>\n",
       "      <td>0.983819</td>\n",
       "      <td>12.711271</td>\n",
       "      <td>12.868436</td>\n",
       "    </tr>\n",
       "    <tr>\n",
       "      <th>min</th>\n",
       "      <td>1.000000</td>\n",
       "      <td>100213.000000</td>\n",
       "      <td>0.000000</td>\n",
       "      <td>19.000000</td>\n",
       "      <td>1.000000</td>\n",
       "      <td>13.346801</td>\n",
       "      <td>0.000000</td>\n",
       "      <td>0.000000</td>\n",
       "      <td>0.000000</td>\n",
       "      <td>0.000000</td>\n",
       "      <td>...</td>\n",
       "      <td>114.666667</td>\n",
       "      <td>6.700000</td>\n",
       "      <td>80.266667</td>\n",
       "      <td>6.636364</td>\n",
       "      <td>1.400000</td>\n",
       "      <td>7.090000</td>\n",
       "      <td>12.857143</td>\n",
       "      <td>0.500000</td>\n",
       "      <td>18.750000</td>\n",
       "      <td>15.000000</td>\n",
       "    </tr>\n",
       "    <tr>\n",
       "      <th>25%</th>\n",
       "      <td>1.000000</td>\n",
       "      <td>125603.000000</td>\n",
       "      <td>0.000000</td>\n",
       "      <td>65.000000</td>\n",
       "      <td>1.000000</td>\n",
       "      <td>24.326461</td>\n",
       "      <td>0.000000</td>\n",
       "      <td>0.000000</td>\n",
       "      <td>0.000000</td>\n",
       "      <td>0.000000</td>\n",
       "      <td>...</td>\n",
       "      <td>136.666667</td>\n",
       "      <td>8.148864</td>\n",
       "      <td>99.000000</td>\n",
       "      <td>12.250000</td>\n",
       "      <td>1.955556</td>\n",
       "      <td>7.334615</td>\n",
       "      <td>23.454545</td>\n",
       "      <td>1.200000</td>\n",
       "      <td>37.038462</td>\n",
       "      <td>40.000000</td>\n",
       "    </tr>\n",
       "    <tr>\n",
       "      <th>50%</th>\n",
       "      <td>1.000000</td>\n",
       "      <td>151901.000000</td>\n",
       "      <td>0.000000</td>\n",
       "      <td>77.000000</td>\n",
       "      <td>2.000000</td>\n",
       "      <td>28.312474</td>\n",
       "      <td>1.000000</td>\n",
       "      <td>0.000000</td>\n",
       "      <td>0.000000</td>\n",
       "      <td>0.000000</td>\n",
       "      <td>...</td>\n",
       "      <td>139.250000</td>\n",
       "      <td>8.500000</td>\n",
       "      <td>102.500000</td>\n",
       "      <td>13.666667</td>\n",
       "      <td>2.092308</td>\n",
       "      <td>7.380000</td>\n",
       "      <td>26.500000</td>\n",
       "      <td>1.600000</td>\n",
       "      <td>43.000000</td>\n",
       "      <td>55.000000</td>\n",
       "    </tr>\n",
       "    <tr>\n",
       "      <th>75%</th>\n",
       "      <td>2.000000</td>\n",
       "      <td>176048.000000</td>\n",
       "      <td>0.000000</td>\n",
       "      <td>85.000000</td>\n",
       "      <td>2.000000</td>\n",
       "      <td>33.633509</td>\n",
       "      <td>1.000000</td>\n",
       "      <td>1.000000</td>\n",
       "      <td>0.000000</td>\n",
       "      <td>1.000000</td>\n",
       "      <td>...</td>\n",
       "      <td>141.600000</td>\n",
       "      <td>8.869063</td>\n",
       "      <td>105.571429</td>\n",
       "      <td>15.416667</td>\n",
       "      <td>2.241667</td>\n",
       "      <td>7.430000</td>\n",
       "      <td>29.875000</td>\n",
       "      <td>2.200000</td>\n",
       "      <td>50.585784</td>\n",
       "      <td>55.000000</td>\n",
       "    </tr>\n",
       "    <tr>\n",
       "      <th>max</th>\n",
       "      <td>2.000000</td>\n",
       "      <td>199952.000000</td>\n",
       "      <td>1.000000</td>\n",
       "      <td>99.000000</td>\n",
       "      <td>2.000000</td>\n",
       "      <td>104.970366</td>\n",
       "      <td>1.000000</td>\n",
       "      <td>1.000000</td>\n",
       "      <td>1.000000</td>\n",
       "      <td>1.000000</td>\n",
       "      <td>...</td>\n",
       "      <td>154.736842</td>\n",
       "      <td>10.950000</td>\n",
       "      <td>122.526316</td>\n",
       "      <td>25.500000</td>\n",
       "      <td>4.072727</td>\n",
       "      <td>7.580000</td>\n",
       "      <td>47.666667</td>\n",
       "      <td>8.333333</td>\n",
       "      <td>98.600000</td>\n",
       "      <td>75.000000</td>\n",
       "    </tr>\n",
       "  </tbody>\n",
       "</table>\n",
       "<p>8 rows × 51 columns</p>\n",
       "</div>"
      ],
      "text/plain": [
       "             group             ID      outcome          age      gendera  \\\n",
       "count  1177.000000    1177.000000  1176.000000  1177.000000  1177.000000   \n",
       "mean      1.299065  150778.120646     0.135204    74.055225     1.525064   \n",
       "std       0.458043   29034.669513     0.342087    13.434061     0.499584   \n",
       "min       1.000000  100213.000000     0.000000    19.000000     1.000000   \n",
       "25%       1.000000  125603.000000     0.000000    65.000000     1.000000   \n",
       "50%       1.000000  151901.000000     0.000000    77.000000     2.000000   \n",
       "75%       2.000000  176048.000000     0.000000    85.000000     2.000000   \n",
       "max       2.000000  199952.000000     1.000000    99.000000     2.000000   \n",
       "\n",
       "              BMI  hypertensive  atrialfibrillation  CHD with no MI  \\\n",
       "count  962.000000   1177.000000         1177.000000     1177.000000   \n",
       "mean    30.188278      0.717927            0.451147        0.085811   \n",
       "std      9.325997      0.450200            0.497819        0.280204   \n",
       "min     13.346801      0.000000            0.000000        0.000000   \n",
       "25%     24.326461      0.000000            0.000000        0.000000   \n",
       "50%     28.312474      1.000000            0.000000        0.000000   \n",
       "75%     33.633509      1.000000            1.000000        0.000000   \n",
       "max    104.970366      1.000000            1.000000        1.000000   \n",
       "\n",
       "          diabetes  ...  Blood sodium  Blood calcium     Chloride  \\\n",
       "count  1177.000000  ...   1177.000000    1176.000000  1177.000000   \n",
       "mean      0.421410  ...    138.890016       8.500894   102.283835   \n",
       "std       0.493995  ...      4.151347       0.572263     5.339733   \n",
       "min       0.000000  ...    114.666667       6.700000    80.266667   \n",
       "25%       0.000000  ...    136.666667       8.148864    99.000000   \n",
       "50%       0.000000  ...    139.250000       8.500000   102.500000   \n",
       "75%       1.000000  ...    141.600000       8.869063   105.571429   \n",
       "max       1.000000  ...    154.736842      10.950000   122.526316   \n",
       "\n",
       "         Anion gap  Magnesium ion          PH  Bicarbonate  Lactic acid  \\\n",
       "count  1177.000000    1177.000000  885.000000  1177.000000   948.000000   \n",
       "mean     13.925094       2.120169    7.378532    26.911766     1.853426   \n",
       "std       2.652732       0.251532    0.067320     5.167512     0.983819   \n",
       "min       6.636364       1.400000    7.090000    12.857143     0.500000   \n",
       "25%      12.250000       1.955556    7.334615    23.454545     1.200000   \n",
       "50%      13.666667       2.092308    7.380000    26.500000     1.600000   \n",
       "75%      15.416667       2.241667    7.430000    29.875000     2.200000   \n",
       "max      25.500000       4.072727    7.580000    47.666667     8.333333   \n",
       "\n",
       "             PCO2           EF  \n",
       "count  883.000000  1177.000000  \n",
       "mean    45.535382    48.715378  \n",
       "std     12.711271    12.868436  \n",
       "min     18.750000    15.000000  \n",
       "25%     37.038462    40.000000  \n",
       "50%     43.000000    55.000000  \n",
       "75%     50.585784    55.000000  \n",
       "max     98.600000    75.000000  \n",
       "\n",
       "[8 rows x 51 columns]"
      ]
     },
     "execution_count": 8,
     "metadata": {},
     "output_type": "execute_result"
    }
   ],
   "source": [
    "data.describe()"
   ]
  },
  {
   "cell_type": "code",
   "execution_count": 9,
   "metadata": {
    "datalore": {
     "hide_input_from_viewers": false,
     "hide_output_from_viewers": false,
     "node_id": "p2EGy0QyaBVC7NqqUJ6Omo",
     "type": "CODE"
    }
   },
   "outputs": [
    {
     "name": "stdout",
     "output_type": "stream",
     "text": [
      "<class 'pandas.core.frame.DataFrame'>\n",
      "RangeIndex: 1177 entries, 0 to 1176\n",
      "Data columns (total 51 columns):\n",
      " #   Column                    Non-Null Count  Dtype  \n",
      "---  ------                    --------------  -----  \n",
      " 0   group                     1177 non-null   int64  \n",
      " 1   ID                        1177 non-null   int64  \n",
      " 2   outcome                   1176 non-null   float64\n",
      " 3   age                       1177 non-null   int64  \n",
      " 4   gendera                   1177 non-null   int64  \n",
      " 5   BMI                       962 non-null    float64\n",
      " 6   hypertensive              1177 non-null   int64  \n",
      " 7   atrialfibrillation        1177 non-null   int64  \n",
      " 8   CHD with no MI            1177 non-null   int64  \n",
      " 9   diabetes                  1177 non-null   int64  \n",
      " 10  deficiencyanemias         1177 non-null   int64  \n",
      " 11  depression                1177 non-null   int64  \n",
      " 12  Hyperlipemia              1177 non-null   int64  \n",
      " 13  Renal failure             1177 non-null   int64  \n",
      " 14  COPD                      1177 non-null   int64  \n",
      " 15  heart rate                1164 non-null   float64\n",
      " 16  Systolic blood pressure   1161 non-null   float64\n",
      " 17  Diastolic blood pressure  1161 non-null   float64\n",
      " 18  Respiratory rate          1164 non-null   float64\n",
      " 19  temperature               1158 non-null   float64\n",
      " 20  SP O2                     1164 non-null   float64\n",
      " 21  Urine output              1141 non-null   float64\n",
      " 22  hematocrit                1177 non-null   float64\n",
      " 23  RBC                       1177 non-null   float64\n",
      " 24  MCH                       1177 non-null   float64\n",
      " 25  MCHC                      1177 non-null   float64\n",
      " 26  MCV                       1177 non-null   float64\n",
      " 27  RDW                       1177 non-null   float64\n",
      " 28  Leucocyte                 1177 non-null   float64\n",
      " 29  Platelets                 1177 non-null   float64\n",
      " 30  Neutrophils               1033 non-null   float64\n",
      " 31  Basophils                 918 non-null    float64\n",
      " 32  Lymphocyte                1032 non-null   float64\n",
      " 33  PT                        1157 non-null   float64\n",
      " 34  INR                       1157 non-null   float64\n",
      " 35  NT-proBNP                 1177 non-null   float64\n",
      " 36  Creatine kinase           1012 non-null   float64\n",
      " 37  Creatinine                1177 non-null   float64\n",
      " 38  Urea nitrogen             1177 non-null   float64\n",
      " 39  glucose                   1159 non-null   float64\n",
      " 40  Blood potassium           1177 non-null   float64\n",
      " 41  Blood sodium              1177 non-null   float64\n",
      " 42  Blood calcium             1176 non-null   float64\n",
      " 43  Chloride                  1177 non-null   float64\n",
      " 44  Anion gap                 1177 non-null   float64\n",
      " 45  Magnesium ion             1177 non-null   float64\n",
      " 46  PH                        885 non-null    float64\n",
      " 47  Bicarbonate               1177 non-null   float64\n",
      " 48  Lactic acid               948 non-null    float64\n",
      " 49  PCO2                      883 non-null    float64\n",
      " 50  EF                        1177 non-null   int64  \n",
      "dtypes: float64(37), int64(14)\n",
      "memory usage: 469.1 KB\n"
     ]
    }
   ],
   "source": [
    "data.info()"
   ]
  },
  {
   "cell_type": "markdown",
   "metadata": {
    "datalore": {
     "hide_input_from_viewers": false,
     "hide_output_from_viewers": false,
     "node_id": "2qFCtkNcZRGS7WIMdshttA",
     "type": "MD"
    },
    "tags": []
   },
   "source": [
    "## Checking NA Values"
   ]
  },
  {
   "cell_type": "code",
   "execution_count": 10,
   "metadata": {
    "datalore": {
     "hide_input_from_viewers": false,
     "hide_output_from_viewers": false,
     "node_id": "gq7yE330TR4tnWqGzH7v8I",
     "type": "CODE"
    }
   },
   "outputs": [
    {
     "data": {
      "text/plain": [
       "PCO2                        294\n",
       "PH                          292\n",
       "Basophils                   259\n",
       "Lactic acid                 229\n",
       "BMI                         215\n",
       "Creatine kinase             165\n",
       "Lymphocyte                  145\n",
       "Neutrophils                 144\n",
       "Urine output                 36\n",
       "INR                          20\n",
       "PT                           20\n",
       "temperature                  19\n",
       "glucose                      18\n",
       "Systolic blood pressure      16\n",
       "Diastolic blood pressure     16\n",
       "SP O2                        13\n",
       "heart rate                   13\n",
       "Respiratory rate             13\n",
       "Blood calcium                 1\n",
       "outcome                       1\n",
       "dtype: int64"
      ]
     },
     "execution_count": 10,
     "metadata": {},
     "output_type": "execute_result"
    }
   ],
   "source": [
    "null = data.isnull().sum()\n",
    "null[null>0].sort_values(ascending=False)"
   ]
  },
  {
   "cell_type": "markdown",
   "metadata": {
    "datalore": {
     "hide_input_from_viewers": false,
     "hide_output_from_viewers": false,
     "node_id": "TFYwS2Rms80oVnSsEHvmnJ",
     "type": "MD"
    }
   },
   "source": [
    "### Drop insignificant rows\n",
    "\n",
    "##### Row 1159 has insufficient information, hence we will remove it  "
   ]
  },
  {
   "cell_type": "code",
   "execution_count": 11,
   "metadata": {
    "datalore": {
     "hide_input_from_viewers": false,
     "hide_output_from_viewers": false,
     "node_id": "gkMY1zTfXeWMoiS7onDcc9",
     "type": "CODE"
    }
   },
   "outputs": [],
   "source": [
    "data = data.drop([1159])"
   ]
  },
  {
   "cell_type": "markdown",
   "metadata": {
    "datalore": {
     "hide_input_from_viewers": false,
     "hide_output_from_viewers": false,
     "node_id": "iHL8XQdIyGZKaNERDa9vyA",
     "type": "MD"
    }
   },
   "source": [
    "### Checking data types of columns of with null values"
   ]
  },
  {
   "cell_type": "code",
   "execution_count": 12,
   "metadata": {
    "datalore": {
     "hide_input_from_viewers": false,
     "hide_output_from_viewers": false,
     "node_id": "Adbi60rje9fVfDEyv6ghEJ",
     "type": "CODE"
    }
   },
   "outputs": [
    {
     "data": {
      "text/plain": [
       "outcome                     float64\n",
       "BMI                         float64\n",
       "heart rate                  float64\n",
       "Systolic blood pressure     float64\n",
       "Diastolic blood pressure    float64\n",
       "Respiratory rate            float64\n",
       "temperature                 float64\n",
       "SP O2                       float64\n",
       "Urine output                float64\n",
       "Neutrophils                 float64\n",
       "Basophils                   float64\n",
       "Lymphocyte                  float64\n",
       "PT                          float64\n",
       "INR                         float64\n",
       "Creatine kinase             float64\n",
       "glucose                     float64\n",
       "Blood calcium               float64\n",
       "PH                          float64\n",
       "Lactic acid                 float64\n",
       "PCO2                        float64\n",
       "dtype: object"
      ]
     },
     "execution_count": 12,
     "metadata": {},
     "output_type": "execute_result"
    }
   ],
   "source": [
    "data[null[null>0].index].dtypes"
   ]
  },
  {
   "cell_type": "code",
   "execution_count": 13,
   "metadata": {
    "datalore": {
     "hide_input_from_viewers": false,
     "hide_output_from_viewers": false,
     "node_id": "VaW71uVMS6k2UtdhGmG2wO",
     "type": "CODE"
    }
   },
   "outputs": [
    {
     "data": {
      "text/plain": [
       "Index(['outcome', 'BMI', 'heart rate', 'Systolic blood pressure',\n",
       "       'Diastolic blood pressure', 'Respiratory rate', 'temperature', 'SP O2',\n",
       "       'Urine output', 'Neutrophils', 'Basophils', 'Lymphocyte', 'PT', 'INR',\n",
       "       'Creatine kinase', 'glucose', 'Blood calcium', 'PH', 'Lactic acid',\n",
       "       'PCO2'],\n",
       "      dtype='object')"
      ]
     },
     "execution_count": 13,
     "metadata": {},
     "output_type": "execute_result"
    }
   ],
   "source": [
    "null[null>0].index\n"
   ]
  },
  {
   "cell_type": "markdown",
   "metadata": {
    "datalore": {
     "hide_input_from_viewers": false,
     "hide_output_from_viewers": false,
     "node_id": "bPGb4Z1Z0wP1Hct8qLSvO7",
     "type": "MD"
    }
   },
   "source": [
    "### Fill null values\n",
    "\n",
    "##### Since all our null columns are numeric, we can fill them with the median value"
   ]
  },
  {
   "cell_type": "code",
   "execution_count": 14,
   "metadata": {
    "datalore": {
     "hide_input_from_viewers": false,
     "hide_output_from_viewers": false,
     "node_id": "MtNUImvjIqYWhouRTNr2Va",
     "type": "CODE"
    }
   },
   "outputs": [],
   "source": [
    "#Remove the null values and put in median\n",
    "null_col = ['outcome', 'BMI', 'heart rate', 'Systolic blood pressure',\n",
    "       'Diastolic blood pressure', 'Respiratory rate', 'temperature', 'SP O2',\n",
    "       'Urine output', 'Neutrophils', 'Basophils', 'Lymphocyte', 'PT', 'INR',\n",
    "       'Creatine kinase', 'glucose', 'Blood calcium', 'PH', 'Lactic acid',\n",
    "       'PCO2']\n",
    "\n",
    "data[null_col] = data[null_col].fillna(data[null_col].median())"
   ]
  },
  {
   "cell_type": "code",
   "execution_count": 15,
   "metadata": {
    "datalore": {
     "hide_input_from_viewers": false,
     "hide_output_from_viewers": false,
     "node_id": "SDNWuoCYWJW80Ob8K7d8gm",
     "type": "CODE"
    }
   },
   "outputs": [
    {
     "name": "stdout",
     "output_type": "stream",
     "text": [
      "<class 'pandas.core.frame.DataFrame'>\n",
      "Int64Index: 1176 entries, 0 to 1176\n",
      "Data columns (total 51 columns):\n",
      " #   Column                    Non-Null Count  Dtype  \n",
      "---  ------                    --------------  -----  \n",
      " 0   group                     1176 non-null   int64  \n",
      " 1   ID                        1176 non-null   int64  \n",
      " 2   outcome                   1176 non-null   float64\n",
      " 3   age                       1176 non-null   int64  \n",
      " 4   gendera                   1176 non-null   int64  \n",
      " 5   BMI                       1176 non-null   float64\n",
      " 6   hypertensive              1176 non-null   int64  \n",
      " 7   atrialfibrillation        1176 non-null   int64  \n",
      " 8   CHD with no MI            1176 non-null   int64  \n",
      " 9   diabetes                  1176 non-null   int64  \n",
      " 10  deficiencyanemias         1176 non-null   int64  \n",
      " 11  depression                1176 non-null   int64  \n",
      " 12  Hyperlipemia              1176 non-null   int64  \n",
      " 13  Renal failure             1176 non-null   int64  \n",
      " 14  COPD                      1176 non-null   int64  \n",
      " 15  heart rate                1176 non-null   float64\n",
      " 16  Systolic blood pressure   1176 non-null   float64\n",
      " 17  Diastolic blood pressure  1176 non-null   float64\n",
      " 18  Respiratory rate          1176 non-null   float64\n",
      " 19  temperature               1176 non-null   float64\n",
      " 20  SP O2                     1176 non-null   float64\n",
      " 21  Urine output              1176 non-null   float64\n",
      " 22  hematocrit                1176 non-null   float64\n",
      " 23  RBC                       1176 non-null   float64\n",
      " 24  MCH                       1176 non-null   float64\n",
      " 25  MCHC                      1176 non-null   float64\n",
      " 26  MCV                       1176 non-null   float64\n",
      " 27  RDW                       1176 non-null   float64\n",
      " 28  Leucocyte                 1176 non-null   float64\n",
      " 29  Platelets                 1176 non-null   float64\n",
      " 30  Neutrophils               1176 non-null   float64\n",
      " 31  Basophils                 1176 non-null   float64\n",
      " 32  Lymphocyte                1176 non-null   float64\n",
      " 33  PT                        1176 non-null   float64\n",
      " 34  INR                       1176 non-null   float64\n",
      " 35  NT-proBNP                 1176 non-null   float64\n",
      " 36  Creatine kinase           1176 non-null   float64\n",
      " 37  Creatinine                1176 non-null   float64\n",
      " 38  Urea nitrogen             1176 non-null   float64\n",
      " 39  glucose                   1176 non-null   float64\n",
      " 40  Blood potassium           1176 non-null   float64\n",
      " 41  Blood sodium              1176 non-null   float64\n",
      " 42  Blood calcium             1176 non-null   float64\n",
      " 43  Chloride                  1176 non-null   float64\n",
      " 44  Anion gap                 1176 non-null   float64\n",
      " 45  Magnesium ion             1176 non-null   float64\n",
      " 46  PH                        1176 non-null   float64\n",
      " 47  Bicarbonate               1176 non-null   float64\n",
      " 48  Lactic acid               1176 non-null   float64\n",
      " 49  PCO2                      1176 non-null   float64\n",
      " 50  EF                        1176 non-null   int64  \n",
      "dtypes: float64(37), int64(14)\n",
      "memory usage: 477.8 KB\n"
     ]
    },
    {
     "data": {
      "text/plain": [
       "None"
      ]
     },
     "metadata": {},
     "output_type": "display_data"
    }
   ],
   "source": [
    "display(data.info())"
   ]
  },
  {
   "cell_type": "markdown",
   "metadata": {
    "datalore": {
     "hide_input_from_viewers": false,
     "hide_output_from_viewers": false,
     "node_id": "SE8oJERmzbjFh4f6J1aCH9",
     "type": "MD"
    },
    "tags": []
   },
   "source": [
    "## Exploratory Data Analysis"
   ]
  },
  {
   "cell_type": "markdown",
   "metadata": {
    "datalore": {
     "hide_input_from_viewers": false,
     "hide_output_from_viewers": false,
     "node_id": "aKqqZwOXpsRYa80TpnPaXV",
     "type": "MD"
    },
    "tags": []
   },
   "source": [
    "### Distribution Plots"
   ]
  },
  {
   "cell_type": "markdown",
   "metadata": {
    "datalore": {
     "hide_input_from_viewers": false,
     "hide_output_from_viewers": false,
     "node_id": "gJoXRuL0m0sWWzgTociFuO",
     "type": "MD"
    }
   },
   "source": [
    "### Outcome"
   ]
  },
  {
   "cell_type": "code",
   "execution_count": 16,
   "metadata": {
    "datalore": {
     "hide_input_from_viewers": false,
     "hide_output_from_viewers": false,
     "node_id": "bZSTG4wg6UOriMPKHiInEI",
     "type": "CODE"
    }
   },
   "outputs": [
    {
     "data": {
      "text/plain": [
       "<seaborn.axisgrid.FacetGrid at 0x7f7d5e660f50>"
      ]
     },
     "execution_count": 16,
     "metadata": {},
     "output_type": "execute_result"
    }
   ],
   "source": [
    "sns.catplot(x = \"outcome\",data = data, kind = \"count\")"
   ]
  },
  {
   "cell_type": "markdown",
   "metadata": {
    "datalore": {
     "hide_input_from_viewers": false,
     "hide_output_from_viewers": false,
     "node_id": "H5uipOLrln5TX1JeJ5Ztfh",
     "type": "MD"
    }
   },
   "source": [
    "#### Plotting correlation heatmap for numerical variables\n",
    "##### We will drop the categorical variables"
   ]
  },
  {
   "cell_type": "code",
   "execution_count": 17,
   "metadata": {
    "datalore": {
     "hide_input_from_viewers": false,
     "hide_output_from_viewers": false,
     "node_id": "9MZXTjWsZVCBbQYtjoaNMF",
     "type": "CODE"
    }
   },
   "outputs": [
    {
     "data": {
      "text/plain": [
       "38"
      ]
     },
     "execution_count": 17,
     "metadata": {},
     "output_type": "execute_result"
    }
   ],
   "source": [
    "\n",
    "data_numerical = data.drop(columns=['group','age','ID', 'gendera', 'hypertensive', 'atrialfibrillation', 'CHD with no MI' , 'diabetes', 'deficiencyanemias', \n",
    "'depression', 'Hyperlipemia', 'Renal failure', 'COPD'])\n",
    "data_numerical.shape[1]"
   ]
  },
  {
   "cell_type": "code",
   "execution_count": 18,
   "metadata": {
    "datalore": {
     "hide_input_from_viewers": false,
     "hide_output_from_viewers": false,
     "node_id": "SASnY290HlGcmYYC2T9TGe",
     "type": "CODE"
    }
   },
   "outputs": [],
   "source": [
    "# #Drawing distribution for all variables\n",
    "\n",
    "# f, axes = plt.subplots(data_numerical.shape[1], 3, figsize=(37, 25))\n",
    "# f.tight_layout(pad = 3.0)\n",
    "\n",
    "# count = 0\n",
    "# for var in data_numerical:\n",
    "#     sns.boxplot(data = data[[var]], orient = \"h\", ax = axes[count,0])\n",
    "#     sns.histplot(data = data[[var]], ax = axes[count,1])\n",
    "#     sns.violinplot(data = data[[var]], orient = \"h\", ax = axes[count,2])\n",
    "#     count += 1\n",
    "  \n",
    "# plt.show()"
   ]
  },
  {
   "cell_type": "code",
   "execution_count": 19,
   "metadata": {
    "datalore": {
     "hide_input_from_viewers": false,
     "hide_output_from_viewers": false,
     "node_id": "PQKnvCt6pqkPsKrNfJLDDO",
     "type": "CODE"
    }
   },
   "outputs": [
    {
     "data": {
      "text/plain": [
       "outcome                     1.000000\n",
       "Anion gap                   0.229676\n",
       "Lactic acid                 0.224992\n",
       "Bicarbonate                -0.222650\n",
       "Leucocyte                   0.208274\n",
       "Urea nitrogen               0.203024\n",
       "Blood calcium              -0.184058\n",
       "Urine output               -0.170494\n",
       "RDW                         0.148089\n",
       "INR                         0.145349\n",
       "PH                         -0.141628\n",
       "PT                          0.141209\n",
       "Blood potassium             0.136940\n",
       "Systolic blood pressure    -0.132084\n",
       "heart rate                  0.129393\n",
       "Lymphocyte                 -0.129202\n",
       "NT-proBNP                   0.121075\n",
       "Respiratory rate            0.116770\n",
       "temperature                -0.092344\n",
       "Platelets                  -0.088465\n",
       "Diastolic blood pressure   -0.086819\n",
       "Magnesium ion               0.074033\n",
       "SP O2                      -0.071062\n",
       "Creatine kinase             0.070671\n",
       "Blood sodium               -0.066366\n",
       "Neutrophils                 0.066188\n",
       "BMI                        -0.061739\n",
       "Chloride                    0.059834\n",
       "Creatinine                  0.046717\n",
       "MCV                         0.034144\n",
       "glucose                     0.032393\n",
       "PCO2                       -0.032100\n",
       "MCHC                       -0.031885\n",
       "Basophils                  -0.024779\n",
       "EF                         -0.024138\n",
       "RBC                        -0.023992\n",
       "hematocrit                 -0.016533\n",
       "MCH                         0.013387\n",
       "dtype: float64"
      ]
     },
     "execution_count": 19,
     "metadata": {},
     "output_type": "execute_result"
    }
   ],
   "source": [
    "plt.figure(figsize=(1,20))\n",
    "\n",
    "data_numerical.corrwith(data_numerical['outcome']).sort_values(ascending = False, key = abs)"
   ]
  },
  {
   "cell_type": "markdown",
   "metadata": {
    "datalore": {
     "hide_input_from_viewers": false,
     "hide_output_from_viewers": false,
     "node_id": "WyXbOx9NixfWWjrA9NR8QL",
     "type": "MD"
    }
   },
   "source": [
    "### Distribution of top 5 correlated variables with Outcome"
   ]
  },
  {
   "cell_type": "code",
   "execution_count": 20,
   "metadata": {
    "datalore": {
     "hide_input_from_viewers": false,
     "hide_output_from_viewers": false,
     "node_id": "TMqvyI3kIrDZj6mJjnlJkn",
     "type": "CODE"
    }
   },
   "outputs": [],
   "source": [
    "# f,ax = plt.subplots(nrows = 2, ncols = 2,figsize=(30, 6))\n",
    "# f.tight_layout(pad=4.0)\n",
    "\n",
    "# # Reg Plot\n",
    "# sns.regplot(ax = ax[0][0], x = \"XXX\", y = \"XXX\", color = \"red\", data = data)\n",
    "# ax[0][0].set_title(\"XXX vs Outcome RegPlot\")\n",
    "\n",
    "# # Box Plot\n",
    "# sns.boxplot(ax = ax[0][1], x = \"XXX\", color = \"red\", data = data)\n",
    "# ax[0][1].set_title(\"XXX\")\n",
    "\n",
    "# # Dist Plot\n",
    "# sns.distplot(ax = ax[1][0], x=data[\"XXX\"], color=\"red\")\n",
    "# ax[1][0].set_title(\"XXX + before Log(1+x)\")\n",
    "# data[\"XXX\"] = np.log1p(data[\"XXX\"])\n",
    "# sns.distplot(ax = ax[1][1], x=data[\"XXX\"], color=\"purple\")\n",
    "# ax[1][1].set_title(\"XXX + after Log(1+x)\")\n",
    "# plt.show()"
   ]
  },
  {
   "cell_type": "code",
   "execution_count": null,
   "metadata": {
    "datalore": {
     "hide_input_from_viewers": false,
     "hide_output_from_viewers": false,
     "node_id": "pHbUJSmZyBnjt65UttMfzG",
     "type": "CODE"
    }
   },
   "outputs": [],
   "source": []
  },
  {
   "cell_type": "markdown",
   "metadata": {
    "datalore": {
     "hide_input_from_viewers": false,
     "hide_output_from_viewers": false,
     "node_id": "jNQoL7cgVH99eMxpYUn6nx",
     "type": "MD"
    },
    "tags": []
   },
   "source": [
    "## Feature Engineering"
   ]
  },
  {
   "cell_type": "markdown",
   "metadata": {
    "datalore": {
     "hide_input_from_viewers": false,
     "hide_output_from_viewers": false,
     "node_id": "Hn2P1TK4fNuHxmE4TMdRMR",
     "type": "MD"
    }
   },
   "source": [
    "### Remove unrelated columns"
   ]
  },
  {
   "cell_type": "code",
   "execution_count": 21,
   "metadata": {
    "datalore": {
     "hide_input_from_viewers": false,
     "hide_output_from_viewers": false,
     "node_id": "GQDlJ3ie4y0P62hxh68OmN",
     "type": "CODE"
    }
   },
   "outputs": [],
   "source": [
    "data = data.drop([\"group\",\"ID\"],axis=1)"
   ]
  },
  {
   "cell_type": "markdown",
   "metadata": {
    "datalore": {
     "hide_input_from_viewers": false,
     "hide_output_from_viewers": false,
     "node_id": "YX46Nsk2klCfLXmrWcBOi8",
     "type": "MD"
    }
   },
   "source": [
    "#### Identify Skewed Numeric Variables"
   ]
  },
  {
   "cell_type": "code",
   "execution_count": 22,
   "metadata": {
    "datalore": {
     "hide_input_from_viewers": false,
     "hide_output_from_viewers": false,
     "node_id": "JfOtT8KdfJiQ0vUtchsPGJ",
     "type": "CODE"
    }
   },
   "outputs": [
    {
     "data": {
      "text/plain": [
       "Creatine kinase    27.049371\n",
       "Basophils          11.492976\n",
       "Creatinine          3.988830\n",
       "INR                 2.740117\n",
       "PT                  2.708074\n",
       "Lymphocyte          2.700180\n",
       "Lactic acid         2.597486\n",
       "Leucocyte           2.587841\n",
       "BMI                 2.572413\n",
       "Neutrophils        -2.216225\n",
       "NT-proBNP           2.143913\n",
       "outcome             2.136401\n",
       "PCO2                1.540333\n",
       "Platelets           1.489313\n",
       "Urea nitrogen       1.483855\n",
       "glucose             1.480872\n",
       "Urine output        1.443498\n",
       "SP O2              -1.393286\n",
       "RDW                 1.378396\n",
       "Magnesium ion       1.290889\n",
       "dtype: float64"
      ]
     },
     "execution_count": 22,
     "metadata": {},
     "output_type": "execute_result"
    }
   ],
   "source": [
    "skew = data_numerical.skew()\n",
    "skew[abs(skew)>1].sort_values(ascending = False, key = abs)"
   ]
  },
  {
   "cell_type": "markdown",
   "metadata": {
    "datalore": {
     "hide_input_from_viewers": false,
     "hide_output_from_viewers": false,
     "node_id": "AYHAotxSL5VT4awVcY9INO",
     "type": "MD"
    }
   },
   "source": [
    "### Box Cox Transformation for Skewed Numeric Variables\n",
    "##### Identify numeric variables which are skewed and apply transformation"
   ]
  },
  {
   "cell_type": "code",
   "execution_count": 23,
   "metadata": {
    "datalore": {
     "hide_input_from_viewers": false,
     "hide_output_from_viewers": false,
     "node_id": "vtz4VBPUj1AdKV9lud2jAu",
     "type": "CODE"
    }
   },
   "outputs": [],
   "source": [
    "skew = data_numerical.drop('outcome',axis=1).skew()\n",
    "skew = skew[abs(skew)>1]\n",
    "\n",
    "from scipy.special import boxcox1p\n",
    "skewed_features = skew.index\n",
    "lam = 0.15\n",
    "for i in skewed_features:\n",
    "    data[i] = boxcox1p(data[i], lam)"
   ]
  },
  {
   "cell_type": "markdown",
   "metadata": {
    "tags": []
   },
   "source": [
    "## Training with SageMaker XGB Model"
   ]
  },
  {
   "cell_type": "markdown",
   "metadata": {},
   "source": [
    "We'll simply randomly split the data into 3 uneven groups.  The model will be trained on 70% of data, it will then be evaluated on 20% of data to give us an estimate of the accuracy we hope to have on \"new\" data, and 10% will be held back as a final testing dataset which will be used later on."
   ]
  },
  {
   "cell_type": "code",
   "execution_count": 112,
   "metadata": {},
   "outputs": [],
   "source": [
    "train_data, validation_data, test_data = np.split(data.sample(frac=1, random_state=1729), [int(0.7 * len(data)), int(0.9 * len(data))])   # Randomly sort the data then split out first 70%, second 20%, and last 10%"
   ]
  },
  {
   "cell_type": "markdown",
   "metadata": {},
   "source": [
    "Amazon SageMaker's XGBoost container expects data in the libSVM or CSV data format.  For this example, we'll stick to CSV.  Note that the first column must be the target variable and the CSV should not include headers.  Also, notice that although repetitive it's easiest to do this after the train|validation|test split rather than before.  This avoids any misalignment issues due to random reordering."
   ]
  },
  {
   "cell_type": "code",
   "execution_count": 113,
   "metadata": {},
   "outputs": [],
   "source": [
    "pd.concat([train_data['outcome'], train_data.drop('outcome', axis=1)], axis=1).to_csv('train.csv', index=False, header=False)\n",
    "pd.concat([validation_data['outcome'], validation_data.drop('outcome', axis=1)], axis=1).to_csv('validation.csv', index=False, header=False)"
   ]
  },
  {
   "cell_type": "markdown",
   "metadata": {},
   "source": [
    "Now we'll copy the file to S3 for Amazon SageMaker's managed training to pickup."
   ]
  },
  {
   "cell_type": "code",
   "execution_count": 114,
   "metadata": {},
   "outputs": [],
   "source": [
    "boto3.Session().resource('s3').Bucket(bucket).Object(os.path.join(prefix, 'train/train.csv')).upload_file('train.csv')\n",
    "boto3.Session().resource('s3').Bucket(bucket).Object(os.path.join(prefix, 'validation/validation.csv')).upload_file('validation.csv')"
   ]
  },
  {
   "cell_type": "markdown",
   "metadata": {},
   "source": [
    "First we'll need to specify the ECR container location for Amazon SageMaker's implementation of XGBoost."
   ]
  },
  {
   "cell_type": "code",
   "execution_count": 115,
   "metadata": {},
   "outputs": [],
   "source": [
    "container = sagemaker.image_uris.retrieve(region=boto3.Session().region_name, framework='xgboost', version='latest')"
   ]
  },
  {
   "cell_type": "code",
   "execution_count": 116,
   "metadata": {},
   "outputs": [],
   "source": [
    "s3_input_train = sagemaker.inputs.TrainingInput(s3_data='s3://{}/{}/train'.format(bucket, prefix), content_type='csv')\n",
    "s3_input_validation = sagemaker.inputs.TrainingInput(s3_data='s3://{}/{}/validation/'.format(bucket, prefix), content_type='csv')"
   ]
  },
  {
   "cell_type": "markdown",
   "metadata": {},
   "source": [
    "First we'll need to specify training parameters to the estimator.  This includes:\n",
    "1. The `xgboost` algorithm container\n",
    "2. The IAM role to use\n",
    "3. Training instance type and count\n",
    "4. S3 location for output data\n",
    "5. Algorithm hyperparameters\n",
    "\n",
    "And then a `.fit()` function which specifies:\n",
    "1. S3 location for output data.  In this case we have both a training and validation set which are passed in."
   ]
  },
  {
   "cell_type": "markdown",
   "metadata": {},
   "source": [
    "First we'll need to specify the ECR container location for Amazon SageMaker's implementation of XGBoost."
   ]
  },
  {
   "cell_type": "code",
   "execution_count": 117,
   "metadata": {},
   "outputs": [],
   "source": [
    "container = sagemaker.image_uris.retrieve(region=boto3.Session().region_name, framework='xgboost', version='latest')"
   ]
  },
  {
   "cell_type": "markdown",
   "metadata": {},
   "source": [
    "Then, because we're training with the CSV file format, we'll create `s3_input`s that our training function can use as a pointer to the files in S3, which also specify that the content type is CSV."
   ]
  },
  {
   "cell_type": "code",
   "execution_count": 118,
   "metadata": {},
   "outputs": [],
   "source": [
    "s3_input_train = sagemaker.inputs.TrainingInput(s3_data='s3://{}/{}/train'.format(bucket, prefix), content_type='csv')\n",
    "s3_input_validation = sagemaker.inputs.TrainingInput(s3_data='s3://{}/{}/validation/'.format(bucket, prefix), content_type='csv')"
   ]
  },
  {
   "cell_type": "code",
   "execution_count": null,
   "metadata": {},
   "outputs": [
    {
     "name": "stderr",
     "output_type": "stream",
     "text": [
      "INFO:sagemaker:Creating training-job with name: xgboost-2023-03-12-10-55-27-124\n"
     ]
    },
    {
     "name": "stdout",
     "output_type": "stream",
     "text": [
      "2023-03-12 10:55:27 Starting - Starting the training job...\n",
      "2023-03-12 10:55:42 Starting - Preparing the instances for training.."
     ]
    }
   ],
   "source": [
    "sess = sagemaker.Session()\n",
    "\n",
    "xgb = sagemaker.estimator.Estimator(container,\n",
    "                                    role, \n",
    "                                    instance_count=1, \n",
    "                                    instance_type='ml.m4.xlarge', #ml.m4.xlarge\n",
    "                                    output_path='s3://{}/{}/output'.format(bucket, prefix),\n",
    "                                    sagemaker_session=sess)\n",
    "xgb.set_hyperparameters(max_depth=5,\n",
    "                        eta=0.2,\n",
    "                        gamma=4,\n",
    "                        min_child_weight=6,\n",
    "                        subsample=0.8,\n",
    "                        silent=0,\n",
    "                        objective='binary:logistic',\n",
    "                        num_round=100)\n",
    "\n",
    "xgb.fit({'train': s3_input_train, 'validation': s3_input_validation}) "
   ]
  },
  {
   "cell_type": "markdown",
   "metadata": {
    "tags": []
   },
   "source": [
    "---\n",
    "\n",
    "#### Hosting\n",
    "Now that we've trained the `xgboost` algorithm on our data, let's deploy a model that's hosted behind a real-time endpoint."
   ]
  },
  {
   "cell_type": "code",
   "execution_count": null,
   "metadata": {},
   "outputs": [],
   "source": [
    "xgb_predictor = xgb.deploy(initial_instance_count=1,\n",
    "                           instance_type='ml.m4.xlarge')"
   ]
  },
  {
   "cell_type": "markdown",
   "metadata": {},
   "source": [
    "---\n",
    "\n",
    "#### Evaluation\n",
    "There are many ways to compare the performance of a machine learning model, but let's start by simply comparing actual to predicted values.  In this case, we're simply predicting whether the customer subscribed to a term deposit (`1`) or not (`0`), which produces a simple confusion matrix.\n",
    "\n",
    "First we'll need to determine how we pass data into and receive data from our endpoint.  Our data is currently stored as NumPy arrays in memory of our notebook instance.  To send it in an HTTP POST request, we'll serialize it as a CSV string and then decode the resulting CSV.\n",
    "\n",
    "*Note: For inference with CSV format, SageMaker XGBoost requires that the data does NOT include the target variable.*"
   ]
  },
  {
   "cell_type": "code",
   "execution_count": null,
   "metadata": {},
   "outputs": [],
   "source": [
    "xgb_predictor.serializer = sagemaker.serializers.CSVSerializer()"
   ]
  },
  {
   "cell_type": "markdown",
   "metadata": {},
   "source": [
    "Now, we'll use a simple function to:\n",
    "1. Loop over our test dataset\n",
    "2. Split it into mini-batches of rows \n",
    "3. Convert those mini-batches to CSV string payloads (notice, we drop the target variable from our dataset first)\n",
    "4. Retrieve mini-batch predictions by invoking the XGBoost endpoint\n",
    "5. Collect predictions and convert from the CSV output our model provides into a NumPy array"
   ]
  },
  {
   "cell_type": "code",
   "execution_count": null,
   "metadata": {
    "tags": []
   },
   "outputs": [],
   "source": [
    "def predict(data, predictor, rows=500 ):\n",
    "    split_array = np.array_split(data, int(data.shape[0] / float(rows) + 1))\n",
    "    predictions = ''\n",
    "    for array in split_array:\n",
    "        predictions = ','.join([predictions, predictor.predict(array).decode('utf-8')])\n",
    "\n",
    "    return np.fromstring(predictions[1:], sep=',')\n",
    "\n",
    "predictions = predict(test_data.drop('outcome', axis=1).to_numpy(), xgb_predictor)"
   ]
  },
  {
   "cell_type": "markdown",
   "metadata": {},
   "source": [
    "Now we'll check our confusion matrix to see how well we predicted versus actuals."
   ]
  },
  {
   "cell_type": "code",
   "execution_count": null,
   "metadata": {
    "tags": []
   },
   "outputs": [],
   "source": [
    "pd.crosstab(index=test_data['outcome'], columns=np.round(predictions), rownames=['actuals'], colnames=['predictions'])"
   ]
  },
  {
   "cell_type": "markdown",
   "metadata": {},
   "source": [
    "#### Automatic model Tuning (optional)\n",
    "Amazon SageMaker automatic model tuning, also known as hyperparameter tuning, finds the best version of a model by running many training jobs on your dataset using the algorithm and ranges of hyperparameters that you specify. It then chooses the hyperparameter values that result in a model that performs the best, as measured by a metric that you choose.\n",
    "For example, suppose that you want to solve a binary classification problem on this marketing dataset. Your goal is to maximize the area under the curve (auc) metric of the algorithm by training an XGBoost Algorithm model. You don't know which values of the eta, alpha, min_child_weight, and max_depth hyperparameters to use to train the best model. To find the best values for these hyperparameters, you can specify ranges of values that Amazon SageMaker hyperparameter tuning searches to find the combination of values that results in the training job that performs the best as measured by the objective metric that you chose. Hyperparameter tuning launches training jobs that use hyperparameter values in the ranges that you specified, and returns the training job with highest auc."
   ]
  },
  {
   "cell_type": "code",
   "execution_count": null,
   "metadata": {
    "tags": []
   },
   "outputs": [],
   "source": [
    "from sagemaker.tuner import IntegerParameter, CategoricalParameter, ContinuousParameter, HyperparameterTuner\n",
    "hyperparameter_ranges = {'eta': ContinuousParameter(0, 1),\n",
    "                            'min_child_weight': ContinuousParameter(1, 10),\n",
    "                            'alpha': ContinuousParameter(0, 2),\n",
    "                            'max_depth': IntegerParameter(1, 10)}"
   ]
  },
  {
   "cell_type": "code",
   "execution_count": null,
   "metadata": {
    "tags": []
   },
   "outputs": [],
   "source": [
    "objective_metric_name = 'validation:auc'"
   ]
  },
  {
   "cell_type": "code",
   "execution_count": null,
   "metadata": {
    "tags": []
   },
   "outputs": [],
   "source": [
    "tuner = HyperparameterTuner(xgb,\n",
    "                            objective_metric_name,\n",
    "                            hyperparameter_ranges,\n",
    "                            max_jobs=20,\n",
    "                            max_parallel_jobs=3)"
   ]
  },
  {
   "cell_type": "code",
   "execution_count": null,
   "metadata": {
    "tags": []
   },
   "outputs": [],
   "source": [
    "tuner.fit({'train': s3_input_train, 'validation': s3_input_validation})"
   ]
  },
  {
   "cell_type": "code",
   "execution_count": null,
   "metadata": {
    "tags": []
   },
   "outputs": [],
   "source": [
    "tuner.best_training_job()"
   ]
  },
  {
   "cell_type": "code",
   "execution_count": null,
   "metadata": {
    "tags": []
   },
   "outputs": [],
   "source": [
    "#  Deploy the best trained or user specified model to an Amazon SageMaker endpoint\n",
    "tuner_predictor = tuner.deploy(initial_instance_count=1,\n",
    "                           instance_type='ml.m4.xlarge')"
   ]
  },
  {
   "cell_type": "code",
   "execution_count": null,
   "metadata": {
    "tags": []
   },
   "outputs": [],
   "source": [
    "# Create a serializer\n",
    "tuner_predictor.serializer = sagemaker.serializers.CSVSerializer()"
   ]
  },
  {
   "cell_type": "code",
   "execution_count": null,
   "metadata": {
    "tags": []
   },
   "outputs": [],
   "source": [
    "# Predict\n",
    "predictions = predict(test_data.drop('outcome', axis=1).to_numpy(),tuner_predictor)"
   ]
  },
  {
   "cell_type": "code",
   "execution_count": null,
   "metadata": {
    "tags": []
   },
   "outputs": [],
   "source": [
    "# Collect predictions and convert from the CSV output our model provides into a NumPy array\n",
    "pd.crosstab(index=test_data['outcome'], columns=np.round(predictions), rownames=['actuals'], colnames=['predictions'])"
   ]
  },
  {
   "cell_type": "markdown",
   "metadata": {},
   "source": [
    "#### (Optional) Clean-up\n",
    "\n",
    "If you are done with this notebook, please run the cell below.  This will remove the hosted endpoint you created and avoid any charges from a stray instance being left on."
   ]
  },
  {
   "cell_type": "code",
   "execution_count": null,
   "metadata": {
    "tags": []
   },
   "outputs": [],
   "source": [
    "# xgb_predictor.delete_endpoint(delete_endpoint_config=True)\n",
    "# tuner_predictor.delete_endpoint(delete_endpoint_config=True)"
   ]
  },
  {
   "cell_type": "markdown",
   "metadata": {
    "datalore": {
     "hide_input_from_viewers": false,
     "hide_output_from_viewers": false,
     "node_id": "3xNKyvXwC3NB8gpMxctJJN",
     "type": "MD"
    },
    "tags": []
   },
   "source": [
    "## Building Models\n",
    "- LightGBM Classifier (lgbmc)\n",
    "- Random Forest Classifier (rfc)\n",
    "- Tensorflow Keras (ann_model)"
   ]
  },
  {
   "cell_type": "code",
   "execution_count": 26,
   "metadata": {
    "datalore": {
     "hide_input_from_viewers": false,
     "hide_output_from_viewers": false,
     "node_id": "EZTmF12rrlqkVfNQ4Ordeu",
     "type": "CODE"
    }
   },
   "outputs": [],
   "source": [
    "X = data.iloc[:,1:]\n",
    "y = data.iloc[:,0]\n",
    "\n",
    "from sklearn.preprocessing import StandardScaler\n",
    "sc = StandardScaler()\n",
    "X = pd.DataFrame(sc.fit_transform(X))"
   ]
  },
  {
   "cell_type": "markdown",
   "metadata": {
    "datalore": {
     "hide_input_from_viewers": false,
     "hide_output_from_viewers": false,
     "node_id": "djDDdyUQ8V0ap1QmzsCDNW",
     "type": "MD"
    }
   },
   "source": [
    "\n",
    "### Train test split\n"
   ]
  },
  {
   "cell_type": "code",
   "execution_count": 46,
   "metadata": {
    "datalore": {
     "hide_input_from_viewers": false,
     "hide_output_from_viewers": false,
     "node_id": "VaqtRmuJ9qNzGSnIVCzXwq",
     "type": "CODE"
    }
   },
   "outputs": [],
   "source": [
    "from sklearn.model_selection import train_test_split\n",
    "X_train,X_test,y_train,y_test = train_test_split(X,y,test_size = 0.2)"
   ]
  },
  {
   "cell_type": "markdown",
   "metadata": {
    "tags": []
   },
   "source": [
    "#### Resampling"
   ]
  },
  {
   "cell_type": "code",
   "execution_count": 30,
   "metadata": {
    "tags": []
   },
   "outputs": [
    {
     "name": "stdout",
     "output_type": "stream",
     "text": [
      "Requirement already satisfied: imbalanced-learn in /opt/conda/lib/python3.7/site-packages (0.10.1)\n",
      "Requirement already satisfied: joblib>=1.1.1 in /opt/conda/lib/python3.7/site-packages (from imbalanced-learn) (1.2.0)\n",
      "Requirement already satisfied: scipy>=1.3.2 in /opt/conda/lib/python3.7/site-packages (from imbalanced-learn) (1.4.1)\n",
      "Requirement already satisfied: threadpoolctl>=2.0.0 in /opt/conda/lib/python3.7/site-packages (from imbalanced-learn) (3.1.0)\n",
      "Requirement already satisfied: numpy>=1.17.3 in /opt/conda/lib/python3.7/site-packages (from imbalanced-learn) (1.21.6)\n",
      "Requirement already satisfied: scikit-learn>=1.0.2 in /opt/conda/lib/python3.7/site-packages (from imbalanced-learn) (1.0.2)\n",
      "\u001b[33mWARNING: Running pip as the 'root' user can result in broken permissions and conflicting behaviour with the system package manager. It is recommended to use a virtual environment instead: https://pip.pypa.io/warnings/venv\u001b[0m\u001b[33m\n",
      "\u001b[0m\n",
      "\u001b[1m[\u001b[0m\u001b[34;49mnotice\u001b[0m\u001b[1;39;49m]\u001b[0m\u001b[39;49m A new release of pip is available: \u001b[0m\u001b[31;49m23.0\u001b[0m\u001b[39;49m -> \u001b[0m\u001b[32;49m23.0.1\u001b[0m\n",
      "\u001b[1m[\u001b[0m\u001b[34;49mnotice\u001b[0m\u001b[1;39;49m]\u001b[0m\u001b[39;49m To update, run: \u001b[0m\u001b[32;49mpip install --upgrade pip\u001b[0m\n"
     ]
    }
   ],
   "source": [
    "# !pip install -U imbalanced-learn"
   ]
  },
  {
   "cell_type": "code",
   "execution_count": 47,
   "metadata": {
    "tags": []
   },
   "outputs": [
    {
     "name": "stdout",
     "output_type": "stream",
     "text": [
      "Class distribution after oversampling: \n",
      " 0.0    765\n",
      "1.0    765\n",
      "Name: outcome, dtype: int64\n"
     ]
    }
   ],
   "source": [
    "import sklearn\n",
    "from imblearn.over_sampling import SMOTE\n",
    "\n",
    "# Create a SMOTE object\n",
    "smote = SMOTE()\n",
    "\n",
    "# Fit the SMOTE object to the training data and apply the transformation\n",
    "X_resampled, y_resampled = smote.fit_resample(X_train, y_train)\n",
    "\n",
    "# Print the number of samples in each class after oversampling\n",
    "print(\"Class distribution after oversampling: \\n\", y_resampled.value_counts())\n"
   ]
  },
  {
   "cell_type": "code",
   "execution_count": 48,
   "metadata": {
    "tags": []
   },
   "outputs": [],
   "source": [
    "X_train = X_resampled\n",
    "y_train = y_resampled"
   ]
  },
  {
   "cell_type": "markdown",
   "metadata": {
    "datalore": {
     "hide_input_from_viewers": false,
     "hide_output_from_viewers": false,
     "node_id": "8AErkSx7Db7BqY4Bq1daSV",
     "type": "MD"
    },
    "tags": []
   },
   "source": [
    "### LightGBM"
   ]
  },
  {
   "cell_type": "code",
   "execution_count": 34,
   "metadata": {
    "datalore": {
     "hide_input_from_viewers": false,
     "hide_output_from_viewers": false,
     "node_id": "sqDFSeasoySQ9teAAGD7MO",
     "type": "CODE"
    }
   },
   "outputs": [],
   "source": [
    "# pip install lightgbm"
   ]
  },
  {
   "cell_type": "code",
   "execution_count": 81,
   "metadata": {
    "datalore": {
     "hide_input_from_viewers": false,
     "hide_output_from_viewers": false,
     "node_id": "J2GnXiZLIBwSRmhNO3AImk",
     "type": "CODE"
    }
   },
   "outputs": [],
   "source": [
    "import lightgbm as lgb\n",
    "lgbmc = lgb.LGBMClassifier()"
   ]
  },
  {
   "cell_type": "markdown",
   "metadata": {},
   "source": [
    "#### LGBMC 5-fold Cross Validation"
   ]
  },
  {
   "cell_type": "code",
   "execution_count": 82,
   "metadata": {
    "tags": []
   },
   "outputs": [],
   "source": [
    "from sklearn.model_selection import cross_val_score\n",
    "from sklearn.metrics import f1_score, accuracy_score"
   ]
  },
  {
   "cell_type": "code",
   "execution_count": 87,
   "metadata": {},
   "outputs": [
    {
     "name": "stdout",
     "output_type": "stream",
     "text": [
      "Mean cross-validation accuracy (train): 0.95\n",
      "Mean cross-validation f1 (train): 0.95\n",
      "\n",
      "Accuracy (test): 0.84\n",
      "F1 (test): 0.34\n"
     ]
    }
   ],
   "source": [
    "accuracy_scores_lgbmc_cv = cross_val_score(lgbmc, X_train, y_train, cv=5, scoring='accuracy')\n",
    "mean_accuracy_lgbmc_cv = np.mean(accuracy_scores_lgbmc_cv)\n",
    "print(\"Mean cross-validation accuracy (train): {:.2f}\".format(mean_accuracy_lgbmc_cv))\n",
    "\n",
    "f1_scores_lgbmc_cv = cross_val_score(lgbmc, X_train, y_train, cv=5, scoring='f1')\n",
    "mean_f1_lgbmc_cv = np.mean(f1_scores_lgbmc_cv)\n",
    "print(\"Mean cross-validation f1 (train): {:.2f}\\n\".format(mean_f1_lgbmc_cv))\n",
    "\n",
    "lgbmc.fit(X_train, y_train)\n",
    "y_pred_lgbmc = lgbmc.predict(X_test)\n",
    "test_f1_lgbmc = f1_score(y_test, y_pred_lgbmc)\n",
    "test_accuracy_lgbmc = accuracy_score(y_test, y_pred_lgbmc)\n",
    "print(\"Accuracy (test): {:.2f}\".format(test_accuracy_lgbmc))\n",
    "print(\"F1 (test): {:.2f}\".format(test_f1_lgbmc))"
   ]
  },
  {
   "cell_type": "markdown",
   "metadata": {},
   "source": [
    "### Random Forest "
   ]
  },
  {
   "cell_type": "code",
   "execution_count": 53,
   "metadata": {
    "tags": []
   },
   "outputs": [],
   "source": [
    "from sklearn.ensemble import RandomForestClassifier\n",
    "rfc = RandomForestClassifier(n_estimators = 10, criterion = 'entropy')"
   ]
  },
  {
   "cell_type": "markdown",
   "metadata": {
    "tags": []
   },
   "source": [
    "#### RFC 5-fold Cross Validation"
   ]
  },
  {
   "cell_type": "code",
   "execution_count": 88,
   "metadata": {
    "tags": []
   },
   "outputs": [
    {
     "name": "stdout",
     "output_type": "stream",
     "text": [
      "Mean cross-validation accuracy (train): 0.92\n",
      "Mean cross-validation f1 (train): 0.92 \n",
      "\n",
      "Accuracy (test): 0.84\n",
      "F1 (test): 0.30\n"
     ]
    }
   ],
   "source": [
    "accuracy_scores_rfc_cv = cross_val_score(rfc, X_train, y_train, cv=5, scoring='accuracy')\n",
    "mean_accuracy_rfc_cv = np.mean(accuracy_scores_rfc_cv)\n",
    "print(\"Mean cross-validation accuracy (train): {:.2f}\".format(mean_accuracy_rfc_cv))\n",
    "\n",
    "f1_scores_rfc_cv = cross_val_score(rfc, X_train, y_train, cv=5, scoring='f1')\n",
    "mean_f1_rfc_cv = np.mean(f1_scores_rfc_cv)\n",
    "print(\"Mean cross-validation f1 (train): {:.2f} \\n\".format(mean_f1_rfc_cv))\n",
    "\n",
    "rfc.fit(X_train, y_train)\n",
    "y_pred_rfc = rfc.predict(X_test)\n",
    "test_f1_rfc = f1_score(y_test, y_pred_rfc)\n",
    "test_accuracy_rfc = accuracy_score(y_test, y_pred_rfc)\n",
    "print(\"Accuracy (test): {:.2f}\".format(test_accuracy_rfc))\n",
    "print(\"F1 (test): {:.2f}\".format(test_f1_rfc))"
   ]
  },
  {
   "cell_type": "markdown",
   "metadata": {
    "datalore": {
     "hide_input_from_viewers": false,
     "hide_output_from_viewers": false,
     "node_id": "NrvybKlRX3yduVhYzfPp60",
     "type": "MD"
    }
   },
   "source": [
    "### Tensorflow Keras"
   ]
  },
  {
   "cell_type": "code",
   "execution_count": 42,
   "metadata": {
    "tags": []
   },
   "outputs": [],
   "source": [
    "# pip install tensorflow"
   ]
  },
  {
   "cell_type": "code",
   "execution_count": 94,
   "metadata": {
    "datalore": {
     "hide_input_from_viewers": false,
     "hide_output_from_viewers": false,
     "node_id": "snLvKYOHglPM7axuwc4XgN",
     "type": "CODE"
    }
   },
   "outputs": [],
   "source": [
    "import keras\n",
    "from keras.models import Sequential\n",
    "from keras.layers import Dense\n",
    "from keras.optimizers import SGD\n",
    "# Neural network\n",
    "ann_model = Sequential()\n",
    "ann_model.add(Dense(12, input_dim=X.shape[1], activation='relu'))\n",
    "ann_model.add(Dense(6, activation='relu'))\n",
    "ann_model.add(Dense(6, activation='relu'))\n",
    "ann_model.add(Dense(1, activation='sigmoid'))\n",
    "#opt = SGD(lr=0.01)\n",
    "ann_model.compile(loss='binary_crossentropy', optimizer='adam', metrics=['accuracy'])"
   ]
  },
  {
   "cell_type": "code",
   "execution_count": 95,
   "metadata": {
    "datalore": {
     "hide_input_from_viewers": false,
     "hide_output_from_viewers": false,
     "node_id": "yQTnqg6TmQR7sblMWiHVia",
     "type": "CODE"
    }
   },
   "outputs": [
    {
     "name": "stdout",
     "output_type": "stream",
     "text": [
      "Epoch 1/30\n",
      "48/48 [==============================] - 1s 1ms/step - loss: 0.6639 - accuracy: 0.6301\n",
      "Epoch 2/30\n",
      "48/48 [==============================] - 0s 1ms/step - loss: 0.6112 - accuracy: 0.7418\n",
      "Epoch 3/30\n",
      "48/48 [==============================] - 0s 1ms/step - loss: 0.5625 - accuracy: 0.7810\n",
      "Epoch 4/30\n",
      "48/48 [==============================] - 0s 1ms/step - loss: 0.5094 - accuracy: 0.8111\n",
      "Epoch 5/30\n",
      "48/48 [==============================] - 0s 1ms/step - loss: 0.4451 - accuracy: 0.8412\n",
      "Epoch 6/30\n",
      "48/48 [==============================] - 0s 1ms/step - loss: 0.3863 - accuracy: 0.8497\n",
      "Epoch 7/30\n",
      "48/48 [==============================] - 0s 1ms/step - loss: 0.3476 - accuracy: 0.8601\n",
      "Epoch 8/30\n",
      "48/48 [==============================] - 0s 1ms/step - loss: 0.3214 - accuracy: 0.8706\n",
      "Epoch 9/30\n",
      "48/48 [==============================] - 0s 2ms/step - loss: 0.3013 - accuracy: 0.8817\n",
      "Epoch 10/30\n",
      "48/48 [==============================] - 0s 1ms/step - loss: 0.2842 - accuracy: 0.8869\n",
      "Epoch 11/30\n",
      "48/48 [==============================] - 0s 1ms/step - loss: 0.2686 - accuracy: 0.9007\n",
      "Epoch 12/30\n",
      "48/48 [==============================] - 0s 1ms/step - loss: 0.2552 - accuracy: 0.9098\n",
      "Epoch 13/30\n",
      "48/48 [==============================] - 0s 1ms/step - loss: 0.2417 - accuracy: 0.9085\n",
      "Epoch 14/30\n",
      "48/48 [==============================] - 0s 1ms/step - loss: 0.2297 - accuracy: 0.9183\n",
      "Epoch 15/30\n",
      "48/48 [==============================] - 0s 2ms/step - loss: 0.2186 - accuracy: 0.9216\n",
      "Epoch 16/30\n",
      "48/48 [==============================] - 0s 1ms/step - loss: 0.2083 - accuracy: 0.9294\n",
      "Epoch 17/30\n",
      "48/48 [==============================] - 0s 2ms/step - loss: 0.1985 - accuracy: 0.9346\n",
      "Epoch 18/30\n",
      "48/48 [==============================] - 0s 1ms/step - loss: 0.1909 - accuracy: 0.9392\n",
      "Epoch 19/30\n",
      "48/48 [==============================] - 0s 2ms/step - loss: 0.1805 - accuracy: 0.9477\n",
      "Epoch 20/30\n",
      "48/48 [==============================] - 0s 1ms/step - loss: 0.1730 - accuracy: 0.9529\n",
      "Epoch 21/30\n",
      "48/48 [==============================] - 0s 1ms/step - loss: 0.1655 - accuracy: 0.9542\n",
      "Epoch 22/30\n",
      "48/48 [==============================] - 0s 1ms/step - loss: 0.1581 - accuracy: 0.9562\n",
      "Epoch 23/30\n",
      "48/48 [==============================] - 0s 1ms/step - loss: 0.1522 - accuracy: 0.9614\n",
      "Epoch 24/30\n",
      "48/48 [==============================] - 0s 1ms/step - loss: 0.1454 - accuracy: 0.9614\n",
      "Epoch 25/30\n",
      "48/48 [==============================] - 0s 1ms/step - loss: 0.1389 - accuracy: 0.9654\n",
      "Epoch 26/30\n",
      "48/48 [==============================] - 0s 1ms/step - loss: 0.1328 - accuracy: 0.9667\n",
      "Epoch 27/30\n",
      "48/48 [==============================] - 0s 1ms/step - loss: 0.1254 - accuracy: 0.9686\n",
      "Epoch 28/30\n",
      "48/48 [==============================] - 0s 1ms/step - loss: 0.1204 - accuracy: 0.9725\n",
      "Epoch 29/30\n",
      "48/48 [==============================] - 0s 1ms/step - loss: 0.1141 - accuracy: 0.9725\n",
      "Epoch 30/30\n",
      "48/48 [==============================] - 0s 1ms/step - loss: 0.1085 - accuracy: 0.9739\n"
     ]
    }
   ],
   "source": [
    "history = ann_model.fit(X_train, y_train, epochs=30, batch_size=32)"
   ]
  },
  {
   "cell_type": "markdown",
   "metadata": {
    "datalore": {
     "hide_input_from_viewers": false,
     "hide_output_from_viewers": false,
     "node_id": "tYTZPQp9iLbIBDqgtBeiXJ",
     "type": "MD"
    }
   },
   "source": [
    "## Accuracy Scores of Models"
   ]
  },
  {
   "cell_type": "code",
   "execution_count": 96,
   "metadata": {
    "datalore": {
     "hide_input_from_viewers": false,
     "hide_output_from_viewers": false,
     "node_id": "VB7Sm7vxHTNXyKnjvQvzDE",
     "type": "CODE"
    }
   },
   "outputs": [
    {
     "name": "stdout",
     "output_type": "stream",
     "text": [
      "10/10 [==============================] - 0s 1ms/step\n",
      "Accuracy (test): 0.81\n",
      "F1 (test): 0.42\n"
     ]
    }
   ],
   "source": [
    "y_pred_ann = np.around(ann_model.predict(X_test))\n",
    "test_accuracy_ann = accuracy_score(y_test,y_pred_ann)\n",
    "test_f1_ann = f1_score(y_test,y_pred_ann)\n",
    "print(\"Accuracy (test): {:.2f}\".format(test_accuracy_ann))\n",
    "print(\"F1 (test): {:.2f}\".format(test_f1_ann))"
   ]
  },
  {
   "cell_type": "markdown",
   "metadata": {
    "datalore": {
     "hide_input_from_viewers": false,
     "hide_output_from_viewers": false,
     "node_id": "nUYuHMQaqe5dyh7Nmx0h69",
     "type": "MD"
    },
    "tags": []
   },
   "source": [
    "## F1 Scores of Models"
   ]
  },
  {
   "cell_type": "code",
   "execution_count": 109,
   "metadata": {
    "tags": []
   },
   "outputs": [],
   "source": [
    "models = pd.DataFrame(\n",
    "    {\n",
    "      \"Classification Model\":[\"LightGBM\", \"RandomForest\", \"ANN\"],\n",
    "      \"Accuracy Score (test)\": [test_accuracy_lgbmc,test_accuracy_rfc,test_accuracy_ann],\n",
    "      \"F1 Score (test)\": [test_f1_lgbmc,test_f1_rfc,test_f1_ann]\n",
    "    }  \n",
    "  )"
   ]
  },
  {
   "cell_type": "code",
   "execution_count": null,
   "metadata": {
    "tags": []
   },
   "outputs": [],
   "source": []
  },
  {
   "cell_type": "code",
   "execution_count": 110,
   "metadata": {
    "tags": []
   },
   "outputs": [
    {
     "data": {
      "image/png": "[encoded data removed]",
      "text/plain": [
       "<Figure size 640x480 with 1 Axes>"
      ]
     },
     "metadata": {},
     "output_type": "display_data"
    }
   ],
   "source": [
    "plt.show()\n",
    "sns.pointplot(x = \"Classification Model\", y = \"Accuracy Score (test)\",\n",
    "           data = models, color = \"Blue\")\n",
    "plt.title(\"Accuracy Scores of Classification Models\")\n",
    "plt.xticks(rotation = 90)\n",
    "plt.show()"
   ]
  },
  {
   "cell_type": "code",
   "execution_count": 111,
   "metadata": {
    "tags": []
   },
   "outputs": [
    {
     "data": {
      "image/png": "[encoded data removed]",
      "text/plain": [
       "<Figure size 640x480 with 1 Axes>"
      ]
     },
     "metadata": {},
     "output_type": "display_data"
    }
   ],
   "source": [
    "plt.show()\n",
    "sns.pointplot(x = \"Classification Model\", y = \"F1 Score (test)\",\n",
    "           data = models, color = \"Red\")\n",
    "plt.title(\"F1 Scores of Classification Models\")\n",
    "plt.xticks(rotation = 90)\n",
    "plt.show()"
   ]
  },
  {
   "cell_type": "markdown",
   "metadata": {
    "datalore": {
     "hide_input_from_viewers": false,
     "hide_output_from_viewers": false,
     "node_id": "KNs6JBQ0ZcBgNUtLosHm7K",
     "type": "MD"
    }
   },
   "source": [
    "\n",
    "## Conclusion"
   ]
  },
  {
   "cell_type": "markdown",
   "metadata": {
    "datalore": {
     "hide_input_from_viewers": false,
     "hide_output_from_viewers": false,
     "node_id": "i4KQuZm9lHqaMTOB8fraFq",
     "type": "MD"
    }
   },
   "source": [
    "### Best model and its best parameters\n",
    "While ANN has the lower test accuracy than some of the other models, it has the highest F1 Score, which accounts for false negatives and false positives.\n",
    "In the medical world where false negatives and false positives are important, F1 Score is a slightly more important metric.\n",
    "\n",
    "Hence ANN model would be the best for classifying our patients"
   ]
  }
 ],
 "metadata": {
  "availableInstances": [
   {
    "_defaultOrder": 0,
    "_isFastLaunch": true,
    "category": "General purpose",
    "gpuNum": 0,
    "memoryGiB": 4,
    "name": "ml.t3.medium",
    "vcpuNum": 2
   },
   {
    "_defaultOrder": 1,
    "_isFastLaunch": false,
    "category": "General purpose",
    "gpuNum": 0,
    "memoryGiB": 8,
    "name": "ml.t3.large",
    "vcpuNum": 2
   },
   {
    "_defaultOrder": 2,
    "_isFastLaunch": false,
    "category": "General purpose",
    "gpuNum": 0,
    "memoryGiB": 16,
    "name": "ml.t3.xlarge",
    "vcpuNum": 4
   },
   {
    "_defaultOrder": 3,
    "_isFastLaunch": false,
    "category": "General purpose",
    "gpuNum": 0,
    "memoryGiB": 32,
    "name": "ml.t3.2xlarge",
    "vcpuNum": 8
   },
   {
    "_defaultOrder": 4,
    "_isFastLaunch": true,
    "category": "General purpose",
    "gpuNum": 0,
    "memoryGiB": 8,
    "name": "ml.m5.large",
    "vcpuNum": 2
   },
   {
    "_defaultOrder": 5,
    "_isFastLaunch": false,
    "category": "General purpose",
    "gpuNum": 0,
    "memoryGiB": 16,
    "name": "ml.m5.xlarge",
    "vcpuNum": 4
   },
   {
    "_defaultOrder": 6,
    "_isFastLaunch": false,
    "category": "General purpose",
    "gpuNum": 0,
    "memoryGiB": 32,
    "name": "ml.m5.2xlarge",
    "vcpuNum": 8
   },
   {
    "_defaultOrder": 7,
    "_isFastLaunch": false,
    "category": "General purpose",
    "gpuNum": 0,
    "memoryGiB": 64,
    "name": "ml.m5.4xlarge",
    "vcpuNum": 16
   },
   {
    "_defaultOrder": 8,
    "_isFastLaunch": false,
    "category": "General purpose",
    "gpuNum": 0,
    "memoryGiB": 128,
    "name": "ml.m5.8xlarge",
    "vcpuNum": 32
   },
   {
    "_defaultOrder": 9,
    "_isFastLaunch": false,
    "category": "General purpose",
    "gpuNum": 0,
    "memoryGiB": 192,
    "name": "ml.m5.12xlarge",
    "vcpuNum": 48
   },
   {
    "_defaultOrder": 10,
    "_isFastLaunch": false,
    "category": "General purpose",
    "gpuNum": 0,
    "memoryGiB": 256,
    "name": "ml.m5.16xlarge",
    "vcpuNum": 64
   },
   {
    "_defaultOrder": 11,
    "_isFastLaunch": false,
    "category": "General purpose",
    "gpuNum": 0,
    "memoryGiB": 384,
    "name": "ml.m5.24xlarge",
    "vcpuNum": 96
   },
   {
    "_defaultOrder": 12,
    "_isFastLaunch": false,
    "category": "General purpose",
    "gpuNum": 0,
    "memoryGiB": 8,
    "name": "ml.m5d.large",
    "vcpuNum": 2
   },
   {
    "_defaultOrder": 13,
    "_isFastLaunch": false,
    "category": "General purpose",
    "gpuNum": 0,
    "memoryGiB": 16,
    "name": "ml.m5d.xlarge",
    "vcpuNum": 4
   },
   {
    "_defaultOrder": 14,
    "_isFastLaunch": false,
    "category": "General purpose",
    "gpuNum": 0,
    "memoryGiB": 32,
    "name": "ml.m5d.2xlarge",
    "vcpuNum": 8
   },
   {
    "_defaultOrder": 15,
    "_isFastLaunch": false,
    "category": "General purpose",
    "gpuNum": 0,
    "memoryGiB": 64,
    "name": "ml.m5d.4xlarge",
    "vcpuNum": 16
   },
   {
    "_defaultOrder": 16,
    "_isFastLaunch": false,
    "category": "General purpose",
    "gpuNum": 0,
    "memoryGiB": 128,
    "name": "ml.m5d.8xlarge",
    "vcpuNum": 32
   },
   {
    "_defaultOrder": 17,
    "_isFastLaunch": false,
    "category": "General purpose",
    "gpuNum": 0,
    "memoryGiB": 192,
    "name": "ml.m5d.12xlarge",
    "vcpuNum": 48
   },
   {
    "_defaultOrder": 18,
    "_isFastLaunch": false,
    "category": "General purpose",
    "gpuNum": 0,
    "memoryGiB": 256,
    "name": "ml.m5d.16xlarge",
    "vcpuNum": 64
   },
   {
    "_defaultOrder": 19,
    "_isFastLaunch": false,
    "category": "General purpose",
    "gpuNum": 0,
    "memoryGiB": 384,
    "name": "ml.m5d.24xlarge",
    "vcpuNum": 96
   },
   {
    "_defaultOrder": 20,
    "_isFastLaunch": true,
    "category": "Compute optimized",
    "gpuNum": 0,
    "memoryGiB": 4,
    "name": "ml.c5.large",
    "vcpuNum": 2
   },
   {
    "_defaultOrder": 21,
    "_isFastLaunch": false,
    "category": "Compute optimized",
    "gpuNum": 0,
    "memoryGiB": 8,
    "name": "ml.c5.xlarge",
    "vcpuNum": 4
   },
   {
    "_defaultOrder": 22,
    "_isFastLaunch": false,
    "category": "Compute optimized",
    "gpuNum": 0,
    "memoryGiB": 16,
    "name": "ml.c5.2xlarge",
    "vcpuNum": 8
   },
   {
    "_defaultOrder": 23,
    "_isFastLaunch": false,
    "category": "Compute optimized",
    "gpuNum": 0,
    "memoryGiB": 32,
    "name": "ml.c5.4xlarge",
    "vcpuNum": 16
   },
   {
    "_defaultOrder": 24,
    "_isFastLaunch": false,
    "category": "Compute optimized",
    "gpuNum": 0,
    "memoryGiB": 72,
    "name": "ml.c5.9xlarge",
    "vcpuNum": 36
   },
   {
    "_defaultOrder": 25,
    "_isFastLaunch": false,
    "category": "Compute optimized",
    "gpuNum": 0,
    "memoryGiB": 96,
    "name": "ml.c5.12xlarge",
    "vcpuNum": 48
   },
   {
    "_defaultOrder": 26,
    "_isFastLaunch": false,
    "category": "Compute optimized",
    "gpuNum": 0,
    "memoryGiB": 144,
    "name": "ml.c5.18xlarge",
    "vcpuNum": 72
   },
   {
    "_defaultOrder": 27,
    "_isFastLaunch": false,
    "category": "Compute optimized",
    "gpuNum": 0,
    "memoryGiB": 192,
    "name": "ml.c5.24xlarge",
    "vcpuNum": 96
   },
   {
    "_defaultOrder": 28,
    "_isFastLaunch": true,
    "category": "Accelerated computing",
    "gpuNum": 1,
    "memoryGiB": 16,
    "name": "ml.g4dn.xlarge",
    "vcpuNum": 4
   },
   {
    "_defaultOrder": 29,
    "_isFastLaunch": false,
    "category": "Accelerated computing",
    "gpuNum": 1,
    "memoryGiB": 32,
    "name": "ml.g4dn.2xlarge",
    "vcpuNum": 8
   },
   {
    "_defaultOrder": 30,
    "_isFastLaunch": false,
    "category": "Accelerated computing",
    "gpuNum": 1,
    "memoryGiB": 64,
    "name": "ml.g4dn.4xlarge",
    "vcpuNum": 16
   },
   {
    "_defaultOrder": 31,
    "_isFastLaunch": false,
    "category": "Accelerated computing",
    "gpuNum": 1,
    "memoryGiB": 128,
    "name": "ml.g4dn.8xlarge",
    "vcpuNum": 32
   },
   {
    "_defaultOrder": 32,
    "_isFastLaunch": false,
    "category": "Accelerated computing",
    "gpuNum": 4,
    "memoryGiB": 192,
    "name": "ml.g4dn.12xlarge",
    "vcpuNum": 48
   },
   {
    "_defaultOrder": 33,
    "_isFastLaunch": false,
    "category": "Accelerated computing",
    "gpuNum": 1,
    "memoryGiB": 256,
    "name": "ml.g4dn.16xlarge",
    "vcpuNum": 64
   },
   {
    "_defaultOrder": 34,
    "_isFastLaunch": false,
    "category": "Accelerated computing",
    "gpuNum": 1,
    "memoryGiB": 61,
    "name": "ml.p3.2xlarge",
    "vcpuNum": 8
   },
   {
    "_defaultOrder": 35,
    "_isFastLaunch": false,
    "category": "Accelerated computing",
    "gpuNum": 4,
    "memoryGiB": 244,
    "name": "ml.p3.8xlarge",
    "vcpuNum": 32
   },
   {
    "_defaultOrder": 36,
    "_isFastLaunch": false,
    "category": "Accelerated computing",
    "gpuNum": 8,
    "memoryGiB": 488,
    "name": "ml.p3.16xlarge",
    "vcpuNum": 64
   },
   {
    "_defaultOrder": 37,
    "_isFastLaunch": false,
    "category": "Accelerated computing",
    "gpuNum": 8,
    "memoryGiB": 768,
    "name": "ml.p3dn.24xlarge",
    "vcpuNum": 96
   },
   {
    "_defaultOrder": 38,
    "_isFastLaunch": false,
    "category": "Memory Optimized",
    "gpuNum": 0,
    "memoryGiB": 16,
    "name": "ml.r5.large",
    "vcpuNum": 2
   },
   {
    "_defaultOrder": 39,
    "_isFastLaunch": false,
    "category": "Memory Optimized",
    "gpuNum": 0,
    "memoryGiB": 32,
    "name": "ml.r5.xlarge",
    "vcpuNum": 4
   },
   {
    "_defaultOrder": 40,
    "_isFastLaunch": false,
    "category": "Memory Optimized",
    "gpuNum": 0,
    "memoryGiB": 64,
    "name": "ml.r5.2xlarge",
    "vcpuNum": 8
   },
   {
    "_defaultOrder": 41,
    "_isFastLaunch": false,
    "category": "Memory Optimized",
    "gpuNum": 0,
    "memoryGiB": 128,
    "name": "ml.r5.4xlarge",
    "vcpuNum": 16
   },
   {
    "_defaultOrder": 42,
    "_isFastLaunch": false,
    "category": "Memory Optimized",
    "gpuNum": 0,
    "memoryGiB": 256,
    "name": "ml.r5.8xlarge",
    "vcpuNum": 32
   },
   {
    "_defaultOrder": 43,
    "_isFastLaunch": false,
    "category": "Memory Optimized",
    "gpuNum": 0,
    "memoryGiB": 384,
    "name": "ml.r5.12xlarge",
    "vcpuNum": 48
   },
   {
    "_defaultOrder": 44,
    "_isFastLaunch": false,
    "category": "Memory Optimized",
    "gpuNum": 0,
    "memoryGiB": 512,
    "name": "ml.r5.16xlarge",
    "vcpuNum": 64
   },
   {
    "_defaultOrder": 45,
    "_isFastLaunch": false,
    "category": "Memory Optimized",
    "gpuNum": 0,
    "memoryGiB": 768,
    "name": "ml.r5.24xlarge",
    "vcpuNum": 96
   },
   {
    "_defaultOrder": 46,
    "_isFastLaunch": false,
    "category": "Accelerated computing",
    "gpuNum": 1,
    "memoryGiB": 16,
    "name": "ml.g5.xlarge",
    "vcpuNum": 4
   },
   {
    "_defaultOrder": 47,
    "_isFastLaunch": false,
    "category": "Accelerated computing",
    "gpuNum": 1,
    "memoryGiB": 32,
    "name": "ml.g5.2xlarge",
    "vcpuNum": 8
   },
   {
    "_defaultOrder": 48,
    "_isFastLaunch": false,
    "category": "Accelerated computing",
    "gpuNum": 1,
    "memoryGiB": 64,
    "name": "ml.g5.4xlarge",
    "vcpuNum": 16
   },
   {
    "_defaultOrder": 49,
    "_isFastLaunch": false,
    "category": "Accelerated computing",
    "gpuNum": 1,
    "memoryGiB": 128,
    "name": "ml.g5.8xlarge",
    "vcpuNum": 32
   },
   {
    "_defaultOrder": 50,
    "_isFastLaunch": false,
    "category": "Accelerated computing",
    "gpuNum": 1,
    "memoryGiB": 256,
    "name": "ml.g5.16xlarge",
    "vcpuNum": 64
   },
   {
    "_defaultOrder": 51,
    "_isFastLaunch": false,
    "category": "Accelerated computing",
    "gpuNum": 4,
    "memoryGiB": 192,
    "name": "ml.g5.12xlarge",
    "vcpuNum": 48
   },
   {
    "_defaultOrder": 52,
    "_isFastLaunch": false,
    "category": "Accelerated computing",
    "gpuNum": 4,
    "memoryGiB": 384,
    "name": "ml.g5.24xlarge",
    "vcpuNum": 96
   },
   {
    "_defaultOrder": 53,
    "_isFastLaunch": false,
    "category": "Accelerated computing",
    "gpuNum": 8,
    "memoryGiB": 768,
    "name": "ml.g5.48xlarge",
    "vcpuNum": 192
   }
  ],
  "datalore": {
   "computation_mode": "JUPYTER",
   "packages": [],
   "version": 1
  },
  "instance_type": "ml.m5.24xlarge",
  "kernelspec": {
   "display_name": "Python 3 (Data Science)",
   "language": "python",
   "name": "python3__SAGEMAKER_INTERNAL__arn:aws:sagemaker:ap-southeast-1:492261229750:image/datascience-1.0"
  },
  "language_info": {
   "codemirror_mode": {
    "name": "ipython",
    "version": 3
   },
   "file_extension": ".py",
   "mimetype": "text/x-python",
   "name": "python",
   "nbconvert_exporter": "python",
   "pygments_lexer": "ipython3",
   "version": "3.7.10"
  }
 },
 "nbformat": 4,
 "nbformat_minor": 4
}
